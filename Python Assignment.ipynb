{
 "cells": [
  {
   "cell_type": "markdown",
   "metadata": {
    "colab_type": "text",
    "id": "l0ZzOlyxB-kf"
   },
   "source": [
    "<h1>Python: without numpy or sklearn </h1>"
   ]
  },
  {
   "cell_type": "markdown",
   "metadata": {
    "colab_type": "text",
    "id": "C0xO8JV9B-ki"
   },
   "source": [
    "\n",
    "\n",
    "\n",
    "<h3> Q1: Given two matrices please print the product of those two matrices </h3>\n",
    "<pre>\n",
    "\n",
    "Ex 1: A   = [[1 3 4]\n",
    "             [2 5 7]\n",
    "             [5 9 6]]\n",
    "      B   = [[1 0 0]\n",
    "             [0 1 0]\n",
    "             [0 0 1]]\n",
    "      A*B = [[1 3 4]\n",
    "             [2 5 7]\n",
    "             [5 9 6]]\n",
    "\n",
    "     \n",
    "Ex 2: A   = [[1 2]\n",
    "             [3 4]]\n",
    "      B   = [[1 2 3 4 5]\n",
    "             [5 6 7 8 9]]\n",
    "      A*B = [[11 14 17 20 23]\n",
    "             [23 30 37 44 51]]\n",
    "             \n",
    "Ex 3: A   = [[1 2]\n",
    "             [3 4]]\n",
    "      B   = [[1 4]\n",
    "             [5 6]\n",
    "             [7 8]\n",
    "             [9 6]]\n",
    "      A*B =Not possible\n",
    "</pre>"
   ]
  },
  {
   "cell_type": "code",
   "execution_count": 31,
   "metadata": {
    "colab": {},
    "colab_type": "code",
    "id": "rnssAfpgB-kj"
   },
   "outputs": [
    {
     "name": "stdout",
     "output_type": "stream",
     "text": [
      "[1, 3, 4]\n",
      "[2, 5, 7]\n",
      "[5, 9, 6]\n"
     ]
    }
   ],
   "source": [
    "# write your python code here\n",
    "# you can take the above example as sample input for your program to test\n",
    "# it should work for any general input try not to hard code for only given input examples\n",
    "# you can take matrix input from user or you can directly define the matrix and give input to the function\n",
    "# reference for creating input - https://stackoverflow.com/questions/12293208/how-to-create-a-list-of-lists\n",
    "\n",
    "# you can free to change all these codes/structure\n",
    "# here A and B are list of lists\n",
    "def matrix_mul(A, B):\n",
    "    # write your code\n",
    "    res_matrix = [[0 for m in range(len(B[0]))] for n in range(len(A))] #creates an m x n matrix with zeros as initial values\n",
    "    if len(A[0])==len(B):# the number of columns in the first matrix must be equal to the number of rows in the second matrix.\n",
    "        \n",
    "        for i in range(len(A)):\n",
    "            for j in range(len(B[0])):\n",
    "                for k in range(len(B)):\n",
    "                    res_matrix[i][j] += A[i][k]*B[k][j]\n",
    "        for res in res_matrix:\n",
    "            print(res)\n",
    "    else :\n",
    "        print(\"Not possible\")\n",
    "A = [[1,3,4],\n",
    "     [2,5,7],\n",
    "     [5,9,6]]\n",
    "B = [[1,0,0],\n",
    "     [0,1,0],\n",
    "     [0,0,1]]\n",
    "    \n",
    "matrix_mul(A, B)"
   ]
  },
  {
   "cell_type": "code",
   "execution_count": 23,
   "metadata": {},
   "outputs": [
    {
     "name": "stdout",
     "output_type": "stream",
     "text": [
      "Not possible\n"
     ]
    }
   ],
   "source": [
    "X   = [[1,2],\n",
    "       [3,4]]\n",
    "Y   = [[1,4],\n",
    "        [5,6],\n",
    "        [7,8],\n",
    "        [9,6]]\n",
    "matrix_mul(X, Y)"
   ]
  },
  {
   "cell_type": "code",
   "execution_count": 33,
   "metadata": {},
   "outputs": [
    {
     "name": "stdout",
     "output_type": "stream",
     "text": [
      "[[0, 0, 0, 0, 0], [0, 0, 0, 0, 0]]\n",
      "[11, 14, 17, 20, 23]\n",
      "[23, 30, 37, 44, 51]\n"
     ]
    }
   ],
   "source": [
    "res_matrix = [[0 for m in range(len(p[0]))] for n in range(len(o))]\n",
    "\n",
    "o  = [[1,2],\n",
    "       [3,4]]\n",
    "p  = [[1,2,3,4,5],\n",
    "       [5,6,7,8,9]]\n",
    "print(res_matrix)\n",
    "matrix_mul(o,p)"
   ]
  },
  {
   "cell_type": "markdown",
   "metadata": {
    "colab_type": "text",
    "id": "at4VwLggB-kn"
   },
   "source": [
    "<h3> Q2: Proportional Sampling - Select a number randomly with probability proportional to its magnitude from the given array of n elements</h3>\n",
    "\n",
    "Consider an experiment, selecting an element from the list A randomly with probability proportional to its magnitude.\n",
    "assume we are doing the same experiment for 100 times with replacement, in each experiment you will print a number that is selected randomly from A.\n",
    "\n",
    "<pre>\n",
    "Ex 1: A = [0 5 27 6 13 28 100 45 10 79]\n",
    "let f(x) denote the number of times x getting selected in 100 experiments.\n",
    "f(100) > f(79) > f(45) > f(28) > f(27) > f(13) > f(10) > f(6) > f(5) > f(0)\n",
    "</pre>"
   ]
  },
  {
   "cell_type": "code",
   "execution_count": 95,
   "metadata": {
    "colab": {},
    "colab_type": "code",
    "id": "B6S2dpBhB-kn"
   },
   "outputs": [
    {
     "name": "stdout",
     "output_type": "stream",
     "text": [
      "28\n",
      "100\n",
      "28\n",
      "27\n",
      "79\n",
      "79\n",
      "6\n",
      "79\n",
      "79\n",
      "79\n",
      "13\n",
      "45\n",
      "100\n",
      "100\n",
      "13\n",
      "28\n",
      "13\n",
      "79\n",
      "79\n",
      "27\n",
      "79\n",
      "6\n",
      "100\n",
      "79\n",
      "79\n",
      "100\n",
      "100\n",
      "27\n",
      "100\n",
      "79\n",
      "100\n",
      "28\n",
      "27\n",
      "45\n",
      "79\n",
      "100\n",
      "45\n",
      "27\n",
      "28\n",
      "100\n",
      "100\n",
      "27\n",
      "79\n",
      "100\n",
      "79\n",
      "100\n",
      "100\n",
      "79\n",
      "28\n",
      "79\n",
      "45\n",
      "27\n",
      "100\n",
      "79\n",
      "13\n",
      "79\n",
      "79\n",
      "45\n",
      "100\n",
      "79\n",
      "13\n",
      "100\n",
      "100\n",
      "100\n",
      "45\n",
      "27\n",
      "45\n",
      "6\n",
      "5\n",
      "100\n",
      "100\n",
      "45\n",
      "100\n",
      "79\n",
      "100\n",
      "79\n",
      "100\n",
      "27\n",
      "28\n",
      "79\n",
      "100\n",
      "79\n",
      "100\n",
      "27\n",
      "100\n",
      "100\n",
      "79\n",
      "100\n",
      "28\n",
      "10\n",
      "28\n",
      "28\n",
      "100\n",
      "79\n",
      "79\n",
      "100\n",
      "100\n",
      "100\n",
      "79\n"
     ]
    }
   ],
   "source": [
    "import random\n",
    "# write your python code here\n",
    "# you can take the above example as sample input for your program to test\n",
    "# it should work for any general input try not to hard code for only given input examples\n",
    "\n",
    "#video link for the topic - https://www.appliedaicourse.com/lecture/11/applied-machine-learning-online-course/2876/proportional-sampling/2/module-2-data-science-exploratory-data-analysis-and-data-visualization\n",
    "# you can free to change all these codes/structure\n",
    "def pick_a_number_from_list(A):\n",
    "# your code here for picking an element from with the probability propotional to its magnitude\n",
    "    sum_of_A = sum(A) # Step1:(a) To find the sum of all the elements of list A \n",
    "    A_norm=[] # An empty list is created to store normalised values\n",
    "    for num in A:\n",
    "        A_norm.append(num/(sum_of_A)) # (b)Each element is normalised by the elements with its sum\n",
    "    cum_sum=[] # An empty list is created to store cumulative sumed values\n",
    "    val = 0\n",
    "    for k in range(len(A)):\n",
    "        val+=A_norm[k]\n",
    "        cum_sum.append(val) #(c) All the values are appended in cum_sum as cumulative sum values\n",
    "        \n",
    "    r = random.uniform(0.0,1.0) # step2: a random number is picked between 0.0 to 1.0\n",
    "\n",
    "    for i in range(len(cum_sum)):\n",
    "            if(r<=cum_sum[i]): # step3: that number is compared with the cum_sum values and \n",
    "                number=A[i] # the number is equated with the values of A at index i\n",
    "                break\n",
    "    return number\n",
    "\n",
    "def sampling_based_on_magnitued():\n",
    "    for i in range(1,100):\n",
    "        number = pick_a_number_from_list(A) #above function is called to select random number\n",
    "        print(number)\n",
    "A = [0,5,27,6,13,28,100,45,10,79]\n",
    "sampling_based_on_magnitued()"
   ]
  },
  {
   "cell_type": "markdown",
   "metadata": {
    "colab_type": "text",
    "id": "D1xQy2WWB-kq"
   },
   "source": [
    "<h3> Q3: Replace the digits in the string with #</h3>\n",
    "\n",
    "consider a string that will have digits in that, we need to remove all the not digits and replace the digits with #\n",
    "<pre>\n",
    "Ex 1: A = 234                Output: ###\n",
    "Ex 2: A = a2b3c4             Output: ###\n",
    "Ex 3: A = abc                Output:   (empty string)\n",
    "Ex 5: A = #2a$#b%c%561#      Output: ####\n",
    "</pre>"
   ]
  },
  {
   "cell_type": "code",
   "execution_count": 2,
   "metadata": {
    "colab": {},
    "colab_type": "code",
    "id": "fxczi2jzB-kr"
   },
   "outputs": [
    {
     "name": "stdout",
     "output_type": "stream",
     "text": [
      "Enter The String:hguut67757rf8hy\n",
      "######"
     ]
    }
   ],
   "source": [
    "import re\n",
    "# write your python code here\n",
    "# you can take the above example as sample input for your program to test\n",
    "# it should work for any general input try not to hard code for only given input examples\n",
    "# try to complete this question using regular expressions\n",
    "# you can free to change all these codes/structure\n",
    "# String: it will be the input to your program\n",
    "def replace_digits(String):\n",
    "    # write your code\n",
    "    for digit in String:\n",
    "        if re.findall('\\d',digit):\n",
    "            print(\"#\",end=\"\")# modified string which is after replacing the # with digits\n",
    "      \n",
    "String1 = input(\"Enter The String:\")\n",
    "replace_digits(String1)"
   ]
  },
  {
   "cell_type": "markdown",
   "metadata": {
    "colab_type": "text",
    "id": "j7h0Ywg7B-kw"
   },
   "source": [
    "<h3> Q4: Students marks dashboard</h3>\n",
    "\n",
    "consider the marks list of class students given two lists <br>\n",
    "Students = ['student1','student2','student3','student4','student5','student6','student7','student8','student9','student10'] <br>\n",
    "Marks = [45, 78, 12, 14, 48, 43, 45, 98, 22, 80] <br>\n",
    "from the above two lists the Student[0] got Marks[0],  Student[1] got Marks[1] and so on <br><br>\n",
    "your task is to print the name of students\n",
    "<strong>a. Who got top 5 ranks, in the descending order of marks</strong> <br>\n",
    "<strong>b. Who got least 5 ranks, in the increasing order of marks</strong><br>\n",
    "<strong>d. Who got marks between  &gt;25th percentile &lt;75th percentile, in the increasing order of marks</strong>\n",
    "\n",
    "<pre>\n",
    "Ex 1: \n",
    "Students=['student1','student2','student3','student4','student5','student6','student7','student8','student9','student10'] \n",
    "Marks = [45, 78, 12, 14, 48, 43, 47, 98, 22, 80]\n",
    "a. \n",
    "student8  98\n",
    "student10 80\n",
    "student2  78\n",
    "student5  48\n",
    "student7  47\n",
    "b.\n",
    "student3 12\n",
    "student4 14\n",
    "student9 22\n",
    "student6 43\n",
    "student1 45\n",
    "c.\n",
    "student9 22\n",
    "student6 43\n",
    "student1 45\n",
    "student7 47\n",
    "student5 48\n",
    "</pre>"
   ]
  },
  {
   "cell_type": "code",
   "execution_count": 21,
   "metadata": {
    "colab": {},
    "colab_type": "code",
    "id": "cxPJgItsB-kx"
   },
   "outputs": [
    {
     "name": "stdout",
     "output_type": "stream",
     "text": [
      "a.top 5 students:\n",
      "student8 98\n",
      "student10 80\n",
      "student2 78\n",
      "student5 48\n",
      "student7 47\n",
      " \n",
      "b.least 5 students:\n",
      "student3 12\n",
      "student4 14\n",
      "student9 22\n",
      "student6 43\n",
      "student1 45\n",
      " \n",
      "c.students_within_25_and_75:\n",
      "student9 22\n",
      "student6 43\n",
      "student1 45\n",
      "student7 47\n",
      "student5 48\n"
     ]
    }
   ],
   "source": [
    "# write your python code here\n",
    "# you can take the above example as sample input for your program to test\n",
    "# it should work for any general input try not to hard code for only given input examples\n",
    "\n",
    "# you can free to change all these codes/structure\n",
    "def display_dash_board(students, marks):\n",
    "    \n",
    "    dict_1 = {students[i]:marks[i] for i in range(len(students))}#Creating dictionary using dictionary Comprehension\n",
    "    # write code for computing top top 5 students\n",
    "    sorted_dict_desc = sorted(dict_1, key= dict_1.get,reverse=True)\n",
    "    x =sorted_dict_desc[:5] # Sorting dictionary values in descending order\n",
    "    print(\"a.top 5 students:\")\n",
    "    for j in x:\n",
    "        print(j,dict_1[j])\n",
    "    print(\" \")\n",
    "    # write code for computing top least 5 students\n",
    "    sorted_dict_asc = sorted(dict_1, key= dict_1.get)#Soring students marks in ascending order\n",
    "    y = sorted_dict_asc[:5]\n",
    "    print(\"b.least 5 students:\")\n",
    "    for i in y:\n",
    "        print(i,dict_1[i])\n",
    "    print(\" \")\n",
    "    \n",
    "    #students_within_25_and_75\n",
    "    sorted_marks_list = sorted(marks)#list is in ascending order so far\n",
    "    max_marks = sorted_marks_list[-1]#maximum number is stored in max_marks\n",
    "    min_marks = sorted_marks_list[0]#minimum value is stored \n",
    "    diff = max_marks-min_marks\n",
    "    per_25th = diff*0.25 #25th percentile is determined and stored in per_25th\n",
    "    per_75th = diff*0.75 #75th percentile is stored in per_75th\n",
    "    \n",
    "    print(\"c.students_within_25_and_75:\")\n",
    "    for k in sorted_dict_asc:\n",
    "        if dict_1[k]<per_25th or dict_1[k]>per_75th:\n",
    "            continue\n",
    "        else:\n",
    "            print(k,dict_1[k])\n",
    "    \n",
    "students = ['student1','student2','student3','student4','student5','student6','student7','student8','student9','student10'] \n",
    "marks = [45, 78, 12, 14, 48, 43, 47, 98, 22, 80]\n",
    "display_dash_board(students, marks)\n",
    " \n",
    "\n",
    "\n"
   ]
  },
  {
   "cell_type": "markdown",
   "metadata": {
    "colab_type": "text",
    "id": "qha0OhQHB-k1"
   },
   "source": [
    "<h3> Q5: Find the closest points</h3>\n",
    "\n",
    "Consider you have given n data points in the form of list of tuples like S=[(x1,y1),(x2,y2),(x3,y3),(x4,y4),(x5,y5),..,(xn,yn)] and a point P=(p,q) <br> Your task is to find 5 closest points(based on cosine distance) in S from P\n",
    "<br>Cosine distance between two points (x,y) and (p,q) is defind as $cos^{-1}(\\frac{(x\\cdot p+y\\cdot q)}{\\sqrt(x^2+y^2)\\cdot\\sqrt(p^2+q^2)})$\n",
    "<pre>\n",
    "Ex:\n",
    "\n",
    "S= [(1,2),(3,4),(-1,1),(6,-7),(0, 6),(-5,-8),(-1,-1),(6,0),(1,-1)]\n",
    "P= (3,-4)\n",
    "\n",
    "<img src='https://i.imgur.com/vyZZQGu.png' width=400>\n",
    "\n",
    "Output:\n",
    "(6,-7)\n",
    "(1,-1)\n",
    "(6,0)\n",
    "(-5,-8)\n",
    "(-1,-1)\n",
    "</pre>\n",
    " Hint - If you write the formula correctly you'll get the distance between points (6,-7) and (3,-4) = 0.065"
   ]
  },
  {
   "cell_type": "code",
   "execution_count": 43,
   "metadata": {
    "colab": {},
    "colab_type": "code",
    "id": "wA5I1g-2B-k2"
   },
   "outputs": [
    {
     "name": "stdout",
     "output_type": "stream",
     "text": [
      "Five closest points(based on cosine distance) in S from P are:\n",
      "\n",
      "(6, -7)\n",
      "(1, -1)\n",
      "(6, 0)\n",
      "(-5, -8)\n",
      "(-1, -1)\n"
     ]
    }
   ],
   "source": [
    "import math as m\n",
    "\n",
    "# write your python code here\n",
    "# you can take the above example as sample input for your program to test\n",
    "# it should work for any general input try not to hard code for only given input examples\n",
    "# you can free to change all these codes/structure\n",
    "\n",
    "\n",
    "# here S is list of tuples and P is a tuple ot len=2\n",
    "def closest_points_to_p(S, P):\n",
    "    # write your code here\n",
    "    res = []\n",
    "    for i in range(len(S)): #𝑐𝑜𝑠^−1((𝑥⋅𝑝+𝑦⋅𝑞)/(√𝑥2+𝑦2)⋅(√𝑝2+𝑞2)) divided into three parts\n",
    "                            \n",
    "        num = S[i][0]*P[0]+S[i][1]*P[1] # Numerator of the formula is stored in num\n",
    "        den = m.sqrt(S[i][0]**2+S[i][1]**2)*m.sqrt(P[0]**2+P[1]**2)# Denominator is stored in den\n",
    "        dis = m.acos(num/den) # Cos^-1 of num and den is stored in dis\n",
    "        \n",
    "        res.append(dis)# Distance between each points is stored in res[]\n",
    "    \n",
    "    dict_1 = {S[i]:res[i] for i in range(len(S))}#Comprehension dictionary is created based on S points and res values\n",
    "    \n",
    "    sorted_dict = list(sorted(dict_1,key=dict_1.get))[:5] # Created a list and sorted in ascending order and five least values \n",
    "                                                        #are stored in sorted_dict\n",
    "    print(\"Five closest points(based on cosine distance) in S from P are:\\n\")\n",
    "    for pt in sorted_dict:\n",
    "        print(pt)\n",
    "    return closest_points_to_p  # its list of tuples\n",
    "\n",
    "S= [(1,2),(3,4),(-1,1),(6,-7),(0, 6),(-5,-8),(-1,-1),(6,0),(1,-1)]\n",
    "P= (3,-4)\n",
    "points = closest_points_to_p(S, P)\n"
   ]
  },
  {
   "cell_type": "markdown",
   "metadata": {
    "colab_type": "text",
    "id": "-g11jeAiB-k5"
   },
   "source": [
    "<h3> Q6: Find Which line separates oranges and apples</h3>\n",
    "consider you have given two set of data points in the form of list of tuples like \n",
    "<pre>\n",
    "Red =[(R11,R12),(R21,R22),(R31,R32),(R41,R42),(R51,R52),..,(Rn1,Rn2)]\n",
    "Blue=[(B11,B12),(B21,B22),(B31,B32),(B41,B42),(B51,B52),..,(Bm1,Bm2)]\n",
    "</pre>\n",
    "and set of line equations(in the string formate, i.e list of strings)\n",
    "<pre>\n",
    "Lines = [a1x+b1y+c1,a2x+b2y+c2,a3x+b3y+c3,a4x+b4y+c4,..,K lines]\n",
    "Note: you need to string parsing here and get the coefficients of x,y and intercept\n",
    "</pre>\n",
    "your task is to for each line that is given print \"YES\"/\"NO\", you will print yes, if all the red points are one side of the line and blue points are other side of the line, otherwise no\n",
    "<pre>\n",
    "Ex:\n",
    "Red= [(1,1),(2,1),(4,2),(2,4), (-1,4)]\n",
    "Blue= [(-2,-1),(-1,-2),(-3,-2),(-3,-1),(1,-3)]\n",
    "Lines=[\"1x+1y+0\",\"1x-1y+0\",\"1x+0y-3\",\"0x+1y-0.5\"]\n",
    "<img src='https://i.imgur.com/mSnQW5K.png' width=400>\n",
    "\n",
    "Output:\n",
    "YES\n",
    "NO\n",
    "NO\n",
    "YES\n",
    "</pre>"
   ]
  },
  {
   "cell_type": "code",
   "execution_count": 17,
   "metadata": {
    "colab": {},
    "colab_type": "code",
    "id": "eRxExaTRB-k6"
   },
   "outputs": [
    {
     "name": "stdout",
     "output_type": "stream",
     "text": [
      "YES\n",
      "NO\n",
      "NO\n",
      "YES\n",
      "NO\n"
     ]
    }
   ],
   "source": [
    "import math\n",
    "# write your python code here\n",
    "# you can take the above example as sample input for your program to test\n",
    "# it should work for any general input try not to hard code for only given input strings\n",
    "\n",
    "\n",
    "# you can free to change all these codes/structure\n",
    "def i_am_the_one(red,blue,line):\n",
    "    # your code\n",
    "    for point1 in red: # For points in Red list\n",
    "        eq1 = line.replace('x','*'+str(point1[0])) # The variables 'x' and 'y' are replaced with (x,y) coordinates respectively\n",
    "        eq1 = eq1.replace('y','*'+str(point1[1]))\n",
    "        \n",
    "        sol1 = eval(eq1) # eval() func is used to parse and evaluate the expression\n",
    "        if sol1 < 0:\n",
    "            return \"NO\" # if the sol1 is less than 0 it returns NO\n",
    "        \n",
    "    for point2 in blue: # For points in Blue list\n",
    "        eq2 = line.replace('x','*'+str(point2[0]))\n",
    "        eq2 = eq2.replace('y','*'+str(point2[1]))\n",
    "        sol2 = eval(eq2)\n",
    "        if sol2 > 0:\n",
    "            return \"NO\"  # if the sol2 is greater than 0 it returns NO\n",
    "    \n",
    "    return \"YES\" # if both the above conditions are false then it returns YES\n",
    "\n",
    "Red= [(1,1),(2,1),(4,2),(2,4), (-1,4)]\n",
    "Blue= [(-2,-1),(-1,-2),(-3,-2),(-3,-1),(1,-3)]\n",
    "Lines=[\"1x+1y+0\",\"1x-1y+0\",\"1x+0y-3\",\"0x+1y-0.5\",\"5x-3y-10\"]\n",
    "\n",
    "for line in Lines:\n",
    "    yes_or_no = i_am_the_one(Red, Blue, line)\n",
    "    print(yes_or_no) # the returned value"
   ]
  },
  {
   "cell_type": "markdown",
   "metadata": {
    "colab_type": "text",
    "id": "9OBpURbNB-k9"
   },
   "source": [
    "<h3> Q7: Filling the missing values in the specified formate</h3>\n",
    "You will be given a string with digits and '\\_'(missing value) symbols you have to replace the '\\_' symbols as explained \n",
    "<pre>\n",
    "Ex 1: _, _, _, 24 ==> 24/4, 24/4, 24/4, 24/4 i.e we. have distributed the 24 equally to all 4 places <br>\n",
    "Ex 2: 40, _, _, _, 60 ==> (60+40)/5,(60+40)/5,(60+40)/5,(60+40)/5,(60+40)/5 ==> 20, 20, 20, 20, 20 i.e. the sum of (60+40) is distributed qually to all 5 places<br>\n",
    "Ex 3: 80, _, _, _, _  ==> 80/5,80/5,80/5,80/5,80/5 ==> 16, 16, 16, 16, 16 i.e. the 80 is distributed qually to all 5 missing values that are right to it<br>\n",
    "Ex 4: _, _, 30, _, _, _, 50, _, _  \n",
    "==> we will fill the missing values from left to right \n",
    "    a. first we will distribute the 30 to left two missing values (10, 10, 10, _, _, _, 50, _, _)\n",
    "    b. now distribute the sum (10+50) missing values in between (10, 10, 12, 12, 12, 12, 12, _, _) \n",
    "    c. now we will distribute 12 to right side missing values (10, 10, 12, 12, 12, 12, 4, 4, 4)\n",
    "</pre>\n",
    "for a given string with comma seprate values, which will have both missing values numbers like ex: \"_, _, x, _, _, _\"\n",
    "you need fill the missing values\n",
    "\n",
    "Q: your program reads a string like ex: \"_, _, x, _, _, _\" and returns the filled sequence\n",
    "\n",
    "Ex: \n",
    "<pre>\n",
    "Input1: \"_,_,_,24\"\n",
    "Output1: 6,6,6,6\n",
    "\n",
    "Input2: \"40,_,_,_,60\"\n",
    "Output2: 20,20,20,20,20\n",
    "\n",
    "Input3: \"80,_,_,_,_\"\n",
    "Output3: 16,16,16,16,16\n",
    "\n",
    "Input4: \"_,_,30,_,_,_,50,_,_\"\n",
    "Output4: 10,10,12,12,12,12,4,4,4\n",
    "\n",
    "</pre>\n",
    "\n"
   ]
  },
  {
   "cell_type": "code",
   "execution_count": 31,
   "metadata": {
    "colab": {},
    "colab_type": "code",
    "id": "nZmpzHs_B-k-"
   },
   "outputs": [
    {
     "name": "stdout",
     "output_type": "stream",
     "text": [
      "Input1: _,_,_,24\n",
      "Output1: 6,6,6,6\n",
      "\n",
      "Input2: 40,_,_,_,60\n",
      "Output2: 20,20,20,20,20\n",
      "\n",
      "Input3: 80,_,_,_,_\n",
      "Output3: 16,16,16,16,16\n",
      "\n",
      "Input4: _,_,30,_,_,_,50,_,_\n",
      "Output5: 10,10,12,12,12,12,4,4,4\n"
     ]
    }
   ],
   "source": [
    "# write your python code here\n",
    "# you can take the above example as sample input for your program to test\n",
    "# it should work for any general input try not to hard code for only given input strings\n",
    "#run your code in the function for each of the inputs mentioned above and make sure that you get the same results\n",
    "\n",
    "# you can free to change all these codes/structure\n",
    "def curve_smoothing(string):\n",
    "    # your code\n",
    "    lst=string.split(',')#Here we split the string\n",
    "    for i in range(len(lst)):# This loop is for finding first digit in list\n",
    "        if lst[i].isdigit():#At any index value digit is occured \n",
    "            for j in range(i+1):\n",
    "                lst[j]=int(lst[i])//(i+1)\n",
    "            new_index=i#Wherever the digit is occured that index is stored\n",
    "            new_value=int(lst[i])#The value will be stored in it\n",
    "            break\n",
    "     #This iteration starts from the new index value       \n",
    "    for i in range(new_index+1,len(lst)):\n",
    "        if lst[i].isdigit():\n",
    "            temp=(new_value+int(lst[i]))//(i-new_index+1)#stores the average value if two values occur in list\n",
    "            for j in range(new_index,i+1):\n",
    "                lst[j]=temp\n",
    "            \n",
    "            new_index=i\n",
    "            new_value=int(lst[i])\n",
    "    #this block continues and do the last calculations of list\n",
    "    try:\n",
    "        for i in range(new_index+1,len(lst)):\n",
    "            if not(lst[i].isdigit()):\n",
    "                count=lst.count('_')#counts the number of '_' we have in a list\n",
    "                break\n",
    "        temp1=new_value//(count+1)\n",
    "        for i in range(new_index,len(lst)):\n",
    "            lst[i]=temp1\n",
    "    except:\n",
    "        pass\n",
    "    return lst \n",
    "S1 = \"_,_,_,24\"\n",
    "S2=  \"40,_,_,_,60\"\n",
    "S3 = \"80,_,_,_,_\"\n",
    "S4 = \"_,_,30,_,_,_,50,_,_\"\n",
    "print(\"Input1:\", S1)\n",
    "print(\"Output1:\",','.join(map(str,curve_smoothing(S1))))\n",
    "print(\"\\nInput2:\",S2)\n",
    "print(\"Output2:\",','.join(map(str,curve_smoothing(S2))))\n",
    "print(\"\\nInput3:\",S3)\n",
    "print(\"Output3:\",','.join(map(str,curve_smoothing(S3))))\n",
    "print(\"\\nInput4:\",S4)\n",
    "print(\"Output5:\",','.join(map(str,curve_smoothing(S4))))"
   ]
  },
  {
   "cell_type": "markdown",
   "metadata": {
    "colab_type": "text",
    "id": "RBz4pzlfB-lB"
   },
   "source": [
    "<h3> Q8: Filling the missing values in the specified formate</h3>\n",
    "You will be given a list of lists, each sublist will be of length 2 i.e. [[x,y],[p,q],[l,m]..[r,s]]\n",
    "consider its like a martrix of n rows and two columns\n",
    "1. the first column F will contain only 5 uniques values (F1, F2, F3, F4, F5)\n",
    "2. the second column S will contain only 3 uniques values (S1, S2, S3)\n",
    "<pre>\n",
    "your task is to find\n",
    "a. Probability of P(F=F1|S==S1), P(F=F1|S==S2), P(F=F1|S==S3)\n",
    "b. Probability of P(F=F2|S==S1), P(F=F2|S==S2), P(F=F2|S==S3)\n",
    "c. Probability of P(F=F3|S==S1), P(F=F3|S==S2), P(F=F3|S==S3)\n",
    "d. Probability of P(F=F4|S==S1), P(F=F4|S==S2), P(F=F4|S==S3)\n",
    "e. Probability of P(F=F5|S==S1), P(F=F5|S==S2), P(F=F5|S==S3)\n",
    "</pre>\n",
    "Ex:\n",
    "\n",
    "<pre>\n",
    "[[F1,S1],[F2,S2],[F3,S3],[F1,S2],[F2,S3],[F3,S2],[F2,S1],[F4,S1],[F4,S3],[F5,S1]]\n",
    "\n",
    "a. P(F=F1|S==S1)=1/4, P(F=F1|S==S2)=1/3, P(F=F1|S==S3)=0/3\n",
    "b. P(F=F2|S==S1)=1/4, P(F=F2|S==S2)=1/3, P(F=F2|S==S3)=1/3\n",
    "c. P(F=F3|S==S1)=0/4, P(F=F3|S==S2)=1/3, P(F=F3|S==S3)=1/3\n",
    "d. P(F=F4|S==S1)=1/4, P(F=F4|S==S2)=0/3, P(F=F4|S==S3)=1/3\n",
    "e. P(F=F5|S==S1)=1/4, P(F=F5|S==S2)=0/3, P(F=F5|S==S3)=0/3\n",
    "</pre>\n",
    "\n",
    "\n"
   ]
  },
  {
   "cell_type": "code",
   "execution_count": 2,
   "metadata": {
    "colab": {},
    "colab_type": "code",
    "id": "e-1giz1MB-lC"
   },
   "outputs": [
    {
     "name": "stdout",
     "output_type": "stream",
     "text": [
      "a. P(F=F1|S==S1)=1/4, P(F=F1|S==S2)=1/3, P(F=F1|S==S3)=0/3\n",
      "b. P(F=F2|S==S1)=1/4, P(F=F2|S==S2)=1/3, P(F=F2|S==S3)=1/3\n",
      "c. P(F=F3|S==S1)=0/4, P(F=F3|S==S2)=1/3, P(F=F3|S==S3)=1/3\n",
      "d. P(F=F4|S==S1)=1/4, P(F=F4|S==S2)=0/3, P(F=F4|S==S3)=1/3\n",
      "e. P(F=F5|S==S1)=1/4, P(F=F5|S==S2)=0/3, P(F=F5|S==S3)=0/3\n"
     ]
    }
   ],
   "source": [
    "# write your python code here\n",
    "# you can take the above example as sample input for your program to test\n",
    "# it should work for any general input try not to hard code for only given input strings. Do not write 15 print statements.\n",
    "# you can use nested loops or dictionaries to write your code\n",
    "\n",
    "\n",
    "# you can free to change all these codes/structure\n",
    "def compute_conditional_probabilites(A):\n",
    "    # your code\n",
    "    F = set()\n",
    "    for a in range(len(A)):\n",
    "        F.add(A[a][0])\n",
    "    sorted_F = sorted(list(F))#All the unique values of F are stored in sorte_list\n",
    "    \n",
    "    count_of_FS = dict()# All the unique combinations  are created and the values of their occurences is counted and stored as dict values\n",
    "    count_of_S = {'S1':0,'S2':0,'S3':0}\n",
    "    \n",
    "    for i in A:#This  loop is find the uniuque combinations as keys and 0 as their values\n",
    "        x = str(i[0])+str(i[1])\n",
    "        count_of_FS[x]=0\n",
    "    \n",
    "    for j in range(len(A)):#This loop is to determine the counts of various combinations and conditions\n",
    "        F_Intersection_S = A[j][0]+A[j][1]\n",
    "        count_of_FS[F_Intersection_S]+=1\n",
    "        S_val=A[j][1]\n",
    "        count_of_S[S_val]+=1\n",
    "    \n",
    "    res = []#empty list is created to store all the occurances\n",
    "    for f in sorted_F:\n",
    "        for s in count_of_S:\n",
    "            t='P(F={F}|S=={S})={FS}/{s}'.format(F=f,S=s,\n",
    "                                                    FS = count_of_FS.get((f+s),0),s=count_of_S[s])\n",
    "            res.append(t)\n",
    "    return res\n",
    "\n",
    "A = [['F1','S1'],['F2','S2'],['F3','S3'],['F1','S2'],['F2','S3'],['F3','S2'],['F2','S1'],['F4','S1'],['F4','S3'],['F5','S1']]\n",
    "\n",
    "result = compute_conditional_probabilites(A)\n",
    "\n",
    "lst = [result[i:i + 3] for i in range(0, len(result), 3)]#making a sublist of 3 elements of main list\n",
    "o = ['a','b','c','d','e']\n",
    "for i in range(len(lst)):# Converting list into string\n",
    "    print(o[i]+'.',', '.join(map(str,lst[i])))\n",
    "        "
   ]
  },
  {
   "cell_type": "markdown",
   "metadata": {
    "colab_type": "text",
    "id": "n4HS87QmB-lF"
   },
   "source": [
    "<h3> Q9: Given two sentances S1, S2</h3>\n",
    "You will be given two sentances S1, S2 your task is to find \n",
    "<pre>\n",
    "a. Number of common words between S1, S2\n",
    "b. Words in S1 but not in S2\n",
    "c. Words in S2 but not in S1\n",
    "</pre>\n",
    "\n",
    "Ex: \n",
    "<pre>\n",
    "S1= \"the first column F will contain only 5 uniques values\"\n",
    "S2= \"the second column S will contain only 3 uniques values\"\n",
    "Output:\n",
    "a. 7\n",
    "b. ['first','F','5']\n",
    "c. ['second','S','3']\n",
    "</pre>"
   ]
  },
  {
   "cell_type": "code",
   "execution_count": 8,
   "metadata": {
    "colab": {},
    "colab_type": "code",
    "id": "Ez7hlHK0B-lG"
   },
   "outputs": [
    {
     "name": "stdout",
     "output_type": "stream",
     "text": [
      "a. 7 \n",
      "b. ['first', 'F', '5'] \n",
      "c. ['second', 'S', '3']\n"
     ]
    }
   ],
   "source": [
    "# write your python code here\n",
    "# you can take the above example as sample input for your program to test\n",
    "# it should work for any general input try not to hard code for only given input strings\n",
    "\n",
    "# you can free to change all these codes/structure\n",
    "def string_features(S1, S2):\n",
    "    # your code\n",
    "    S3 = S1.split()\n",
    "    S4 = S2.split()# Convert string in a list using split() function\n",
    "    a = 0\n",
    "    b = []\n",
    "    c = [] # Creating empty lists to add unique words in both strings\n",
    "   \n",
    "    for i in range(len(S3)):\n",
    "        for j in range(len(S4)):\n",
    "            if S3[i]==S4[j]: # If the word of S3 is equal to S4 increment a by 1\n",
    "                a+=1\n",
    "    for x in S3:\n",
    "        if not x in S4: # If a word present in S3 but not in S4 then append that word into empty list b\n",
    "            b.append(x)\n",
    "    for y in S4:\n",
    "        if not y in S3: # If a word present in S4 but not in S3 then append that word into empty list b\n",
    "            c.append(y)\n",
    "    return a, b, c # returns all the three operations\n",
    "    \n",
    "S1= \"the first column F will contain only 5 uniques values\"\n",
    "S2= \"the second column S will contain only 3 uniques values\"\n",
    "a,b,c = string_features(S1, S2)\n",
    "print(\"a.\",a,\"\\nb.\",b,\"\\nc.\",c,)\n",
    "\n",
    "#Above task can be done using sets as well\n",
    "    # m = set(S3)\n",
    "    #n = set(S4) Using set data type we can perform the same operations\n",
    "    #print(list(m.difference(n))"
   ]
  },
  {
   "cell_type": "markdown",
   "metadata": {
    "colab_type": "text",
    "id": "XefXVEjCB-lI"
   },
   "source": [
    "<h3> Q10: Given two sentances S1, S2</h3>\n",
    "You will be given a list of lists, each sublist will be of length 2 i.e. [[x,y],[p,q],[l,m]..[r,s]]\n",
    "consider its like a martrix of n rows and two columns\n",
    "\n",
    "a. the first column Y will contain interger values <br>\n",
    "b. the second column $Y_{score}$ will be having float values <br>\n",
    "Your task is to find the value of $f(Y,Y_{score}) = -1*\\frac{1}{n}\\Sigma_{for each Y,Y_{score} pair}(Ylog10(Y_{score})+(1-Y)log10(1-Y_{score}))$ here n is the number of rows in the matrix\n",
    "<pre>\n",
    "Ex:\n",
    "[[1, 0.4], [0, 0.5], [0, 0.9], [0, 0.3], [0, 0.6], [1, 0.1], [1, 0.9], [1, 0.8]]\n",
    "output:\n",
    "0.4243099\n",
    "</pre>\n",
    "$\\frac{-1}{8}\\cdot((1\\cdot log_{10}(0.4)+0\\cdot log_{10}(0.6))+(0\\cdot log_{10}(0.5)+1\\cdot log_{10}(0.5)) + ... + (1\\cdot log_{10}(0.8)+0\\cdot log_{10}(0.2)) )$"
   ]
  },
  {
   "cell_type": "code",
   "execution_count": 2,
   "metadata": {
    "colab": {},
    "colab_type": "code",
    "id": "N9zkagyNB-lJ"
   },
   "outputs": [
    {
     "name": "stdout",
     "output_type": "stream",
     "text": [
      "Loss for the function 𝑓(𝑌,𝑌𝑠𝑐𝑜𝑟𝑒)=−1∗1𝑛Σ𝑓𝑜𝑟𝑒𝑎𝑐ℎ𝑌,𝑌𝑠𝑐𝑜𝑟𝑒𝑝𝑎𝑖𝑟(𝑌𝑙𝑜𝑔10(𝑌𝑠𝑐𝑜𝑟𝑒)+(1−𝑌)𝑙𝑜𝑔10(1−𝑌𝑠𝑐𝑜𝑟𝑒)) is:\n",
      "\n",
      "0.4243099\n"
     ]
    }
   ],
   "source": [
    "# write your python code here\n",
    "# you can take the above example as sample input for your program to test\n",
    "# it should work for any general input try not to hard code for only given input strings\n",
    "import math as m\n",
    "\n",
    "# you can free to change all these codes/structure\n",
    "def compute_log_loss(A):\n",
    "    # your code\n",
    "    total = 0\n",
    "    n = len(A)\n",
    "    for i in range(n):#𝑓(𝑌,𝑌𝑠𝑐𝑜𝑟𝑒)=−1∗1𝑛Σ𝑓𝑜𝑟𝑒𝑎𝑐ℎ𝑌,𝑌𝑠𝑐𝑜𝑟𝑒𝑝𝑎𝑖𝑟(𝑌𝑙𝑜𝑔10(𝑌𝑠𝑐𝑜𝑟𝑒)+(1−𝑌)𝑙𝑜𝑔10(1−𝑌𝑠𝑐𝑜𝑟𝑒)) this function is divided into three\n",
    "                      # steps where we 1.calculate loss for each point \n",
    "                      #2.then store in a variable total\n",
    "                      #3.then divide with n(number of rows) and multiply with -1\n",
    "        \n",
    "        loss= A[i][0]*m.log10(A[i][1])+(1-A[i][0])*(m.log10(1-A[i][1]))\n",
    "        total = loss+total\n",
    "    total_loss = -1/n*(total)\n",
    "    return total_loss  # returning the total loss for the above function\n",
    "\n",
    "A = [[1, 0.4], [0, 0.5], [0, 0.9], [0, 0.3], [0, 0.6], [1, 0.1], [1, 0.9], [1, 0.8]]\n",
    "loss = compute_log_loss(A)\n",
    "print(\"Loss for the function 𝑓(𝑌,𝑌𝑠𝑐𝑜𝑟𝑒)=−1∗1𝑛Σ𝑓𝑜𝑟𝑒𝑎𝑐ℎ𝑌,𝑌𝑠𝑐𝑜𝑟𝑒𝑝𝑎𝑖𝑟(𝑌𝑙𝑜𝑔10(𝑌𝑠𝑐𝑜𝑟𝑒)+(1−𝑌)𝑙𝑜𝑔10(1−𝑌𝑠𝑐𝑜𝑟𝑒)) is:\\n\")\n",
    "print(round(loss,7))"
   ]
  },
  {
   "cell_type": "code",
   "execution_count": null,
   "metadata": {},
   "outputs": [],
   "source": []
  }
 ],
 "metadata": {
  "colab": {
   "collapsed_sections": [],
   "name": "1.Python Assignment.ipynb",
   "provenance": []
  },
  "kernelspec": {
   "display_name": "Python 3",
   "language": "python",
   "name": "python3"
  },
  "language_info": {
   "codemirror_mode": {
    "name": "ipython",
    "version": 3
   },
   "file_extension": ".py",
   "mimetype": "text/x-python",
   "name": "python",
   "nbconvert_exporter": "python",
   "pygments_lexer": "ipython3",
   "version": "3.8.8"
  }
 },
 "nbformat": 4,
 "nbformat_minor": 1
}
