{
 "cells": [
  {
   "cell_type": "markdown",
   "metadata": {
    "colab_type": "text",
    "id": "8wqapAXjsc24"
   },
   "source": [
    "# Assignment 9: GBDT"
   ]
  },
  {
   "cell_type": "markdown",
   "metadata": {
    "colab_type": "text",
    "id": "8u5NhbnEsc2-"
   },
   "source": [
    "#### Response Coding: Example"
   ]
  },
  {
   "cell_type": "markdown",
   "metadata": {
    "colab_type": "text",
    "id": "HIFWmwHKsc3A"
   },
   "source": [
    "<img src='http://i.imgur.com/TufZptV.jpg' width=700px>\n",
    "\n",
    "> The response tabel is built only on train dataset.\n",
    "> For a category which is not there in train data and present in test data, we will encode them with default values\n",
    "Ex: in our test data if have State: D then we encode it as [0.5, 0.05]"
   ]
  },
  {
   "cell_type": "code",
   "execution_count": null,
   "metadata": {},
   "outputs": [],
   "source": []
  },
  {
   "cell_type": "code",
   "execution_count": null,
   "metadata": {},
   "outputs": [],
   "source": []
  },
  {
   "cell_type": "markdown",
   "metadata": {
    "colab_type": "text",
    "id": "3KwfGufDsc3D"
   },
   "source": [
    "<ol>\n",
    "    <li><strong>Apply GBDT on these feature sets</strong>\n",
    "        <ul>\n",
    "            <li><font color='red'>Set 1</font>: categorical(instead of one hot encoding, try <a href='https://www.appliedaicourse.com/course/applied-ai-course-online/lessons/handling-categorical-and-numerical-features/'>response coding</a>: use probability values), numerical features + project_title(TFIDF)+  preprocessed_eassay (TFIDF)+sentiment Score of eassay(check the bellow example, include all 4 values as 4 features)</li>\n",
    "            <li><font color='red'>Set 2</font>: categorical(instead of one hot encoding, try <a href='https://www.appliedaicourse.com/course/applied-ai-course-online/lessons/handling-categorical-and-numerical-features/'>response coding</a>: use probability values), numerical features + project_title(TFIDF W2V)+  preprocessed_eassay (TFIDF W2V)</li>        \n",
    "    </li>\n",
    "    <li> Here in response encoding you need to apply the <strong>laplase smoothing</strong> value for test set. Laplase smoothing means, If test point is present in test but not in train then you need to apply default 0.5 as probability value for that data point (Refer the Response Encoding Image from above cell) </li>\n",
    "    <li>Please use atleast <strong> 35k </strong> data points </li></ul>\n",
    "    <li><strong>The hyper paramter tuning (Consider any two hyper parameters)</strong>\n",
    "        <ul>\n",
    "    <li>Find the best hyper parameter which will give the maximum <a href='https://www.appliedaicourse.com/course/applied-ai-course-online/lessons/receiver-operating-characteristic-curve-roc-curve-and-auc-1/'>AUC</a> value</li>\n",
    "    <li>find the best hyper paramter using k-fold cross validation/simple cross validation data</li>\n",
    "    <li>use gridsearch cv or randomsearch cv or you can write your own for loops to do this task</li>\n",
    "        </ul>\n",
    "    </li>\n",
    "    <li>\n",
    "    <strong>Representation of results</strong>\n",
    "        <ul>\n",
    "    <li>You need to plot the performance of model both on train data and cross validation data for each hyper parameter, like shown in the figure\n",
    "    <img src='https://i.imgur.com/Gp2DQmh.jpg' width=500px> with X-axis as <strong>n_estimators</strong>, Y-axis as <strong>max_depth</strong>, and Z-axis as <strong>AUC Score</strong> , we have given the notebook which explains how to plot this 3d plot, you can find it in the same drive <i>3d_scatter_plot.ipynb</i></li>\n",
    "            <p style=\"text-align:center;font-size:30px;color:red;\"><strong>or</strong></p> <br>\n",
    "    <li>You need to plot the performance of model both on train data and cross validation data for each hyper parameter, like shown in the figure\n",
    "    <img src='https://i.imgur.com/fgN9aUP.jpg' width=300px> <a href='https://seaborn.pydata.org/generated/seaborn.heatmap.html'>seaborn heat maps</a> with rows as <strong>n_estimators</strong>, columns as <strong>max_depth</strong>, and values inside the cell representing <strong>AUC Score</strong> </li>\n",
    "    <li>You choose either of the plotting techniques out of 3d plot or heat map</li>\n",
    "    <li>Once after you found the best hyper parameter, you need to train your model with it, and find the AUC on test data and plot the ROC curve on both train and test.\n",
    "        Make sure that you are using predict_proba method to calculate AUC curves, because AUC is calcualted on class probabilities and not on class labels.\n",
    "    <img src='https://i.imgur.com/wMQDTFe.jpg' width=300px></li>\n",
    "    <li>Along with plotting ROC curve, you need to print the <a href='https://www.appliedaicourse.com/course/applied-ai-course-online/lessons/confusion-matrix-tpr-fpr-fnr-tnr-1/'>confusion matrix</a> with predicted and original labels of test data points\n",
    "    <img src='https://i.imgur.com/IdN5Ctv.png' width=300px></li>\n",
    "            </ul>\n",
    "    <br>\n",
    "    <li>You need to summarize the results at the end of the notebook, summarize it in the table format\n",
    "        <img src='http://i.imgur.com/YVpIGGE.jpg' width=400px>\n",
    "    </li>\n",
    "</ol>"
   ]
  },
  {
   "cell_type": "markdown",
   "metadata": {},
   "source": [
    "# Few Notes"
   ]
  },
  {
   "cell_type": "markdown",
   "metadata": {},
   "source": [
    "1. Use atleast 35k data points\n",
    "2. Use classifier.Predict_proba() method instead of predict() method while calculating roc_auc scores\n",
    "3. Be sure that you are using laplase smoothing in response encoding function. Laplase smoothing means applying the default (0.5) value to test data if the test data is not present in the train set\n"
   ]
  },
  {
   "cell_type": "code",
   "execution_count": 1,
   "metadata": {
    "colab": {},
    "colab_type": "code",
    "id": "iffa2_WGsc3H",
    "outputId": "151fc2d5-3bc1-4206-9bd2-000dbf662b31"
   },
   "outputs": [
    {
     "name": "stdout",
     "output_type": "stream",
     "text": [
      "sentiment score for sentence 1 {'neg': 0.0, 'neu': 0.213, 'pos': 0.787, 'compound': 0.5719}\n",
      "sentiment score for sentence 2 {'neg': 0.756, 'neu': 0.244, 'pos': 0.0, 'compound': -0.4767}\n",
      "sentiment score for sentence 3 {'neg': 0.0, 'neu': 1.0, 'pos': 0.0, 'compound': 0.0}\n"
     ]
    }
   ],
   "source": [
    "import nltk\n",
    "from nltk.sentiment.vader import SentimentIntensityAnalyzer\n",
    "# import nltk\n",
    "# nltk.download('vader_lexicon')\n",
    "\n",
    "sid = SentimentIntensityAnalyzer()\n",
    "\n",
    "sample_sentence_1='I am happy.'\n",
    "ss_1 = sid.polarity_scores(sample_sentence_1)\n",
    "print('sentiment score for sentence 1',ss_1)\n",
    "\n",
    "sample_sentence_2='I am sad.'\n",
    "ss_2 = sid.polarity_scores(sample_sentence_2)\n",
    "print('sentiment score for sentence 2',ss_2)\n",
    "\n",
    "sample_sentence_3='I am going to New Delhi tommorow.'\n",
    "ss_3 = sid.polarity_scores(sample_sentence_3)\n",
    "print('sentiment score for sentence 3',ss_3)\n"
   ]
  },
  {
   "cell_type": "markdown",
   "metadata": {
    "colab_type": "text",
    "id": "BOyTl7oKsc3W"
   },
   "source": [
    "<h1>1. GBDT (xgboost/lightgbm) </h1>"
   ]
  },
  {
   "cell_type": "markdown",
   "metadata": {
    "colab_type": "text",
    "id": "VWge-b2Zsc3Z"
   },
   "source": [
    "## 1.1 Loading Data"
   ]
  },
  {
   "cell_type": "code",
   "execution_count": 2,
   "metadata": {
    "colab": {},
    "colab_type": "code",
    "id": "WDZFu6-usc3d"
   },
   "outputs": [],
   "source": [
    "import pandas\n",
    "data = pandas.read_csv('preprocessed_data.csv',nrows=35000)"
   ]
  },
  {
   "cell_type": "code",
   "execution_count": 3,
   "metadata": {},
   "outputs": [
    {
     "name": "stdout",
     "output_type": "stream",
     "text": [
      "<class 'pandas.core.frame.DataFrame'>\n",
      "RangeIndex: 35000 entries, 0 to 34999\n",
      "Data columns (total 9 columns):\n",
      " #   Column                                        Non-Null Count  Dtype  \n",
      "---  ------                                        --------------  -----  \n",
      " 0   school_state                                  35000 non-null  object \n",
      " 1   teacher_prefix                                35000 non-null  object \n",
      " 2   project_grade_category                        35000 non-null  object \n",
      " 3   teacher_number_of_previously_posted_projects  35000 non-null  int64  \n",
      " 4   project_is_approved                           35000 non-null  int64  \n",
      " 5   clean_categories                              35000 non-null  object \n",
      " 6   clean_subcategories                           35000 non-null  object \n",
      " 7   essay                                         35000 non-null  object \n",
      " 8   price                                         35000 non-null  float64\n",
      "dtypes: float64(1), int64(2), object(6)\n",
      "memory usage: 2.4+ MB\n"
     ]
    }
   ],
   "source": [
    "data.info()"
   ]
  },
  {
   "cell_type": "code",
   "execution_count": 7,
   "metadata": {},
   "outputs": [
    {
     "data": {
      "text/html": [
       "<div>\n",
       "<style scoped>\n",
       "    .dataframe tbody tr th:only-of-type {\n",
       "        vertical-align: middle;\n",
       "    }\n",
       "\n",
       "    .dataframe tbody tr th {\n",
       "        vertical-align: top;\n",
       "    }\n",
       "\n",
       "    .dataframe thead th {\n",
       "        text-align: right;\n",
       "    }\n",
       "</style>\n",
       "<table border=\"1\" class=\"dataframe\">\n",
       "  <thead>\n",
       "    <tr style=\"text-align: right;\">\n",
       "      <th></th>\n",
       "      <th>Unnamed: 0</th>\n",
       "      <th>id</th>\n",
       "      <th>teacher_id</th>\n",
       "      <th>teacher_prefix</th>\n",
       "      <th>school_state</th>\n",
       "      <th>project_submitted_datetime</th>\n",
       "      <th>project_grade_category</th>\n",
       "      <th>project_subject_categories</th>\n",
       "      <th>project_subject_subcategories</th>\n",
       "      <th>project_title</th>\n",
       "      <th>project_essay_1</th>\n",
       "      <th>project_essay_2</th>\n",
       "      <th>project_essay_3</th>\n",
       "      <th>project_essay_4</th>\n",
       "      <th>project_resource_summary</th>\n",
       "      <th>teacher_number_of_previously_posted_projects</th>\n",
       "      <th>project_is_approved</th>\n",
       "    </tr>\n",
       "  </thead>\n",
       "  <tbody>\n",
       "    <tr>\n",
       "      <th>0</th>\n",
       "      <td>160221</td>\n",
       "      <td>p253737</td>\n",
       "      <td>c90749f5d961ff158d4b4d1e7dc665fc</td>\n",
       "      <td>Mrs.</td>\n",
       "      <td>IN</td>\n",
       "      <td>2016-12-05 13:43:57</td>\n",
       "      <td>Grades PreK-2</td>\n",
       "      <td>Literacy &amp; Language</td>\n",
       "      <td>ESL, Literacy</td>\n",
       "      <td>Educational Support for English Learners at Home</td>\n",
       "      <td>My students are English learners that are work...</td>\n",
       "      <td>\\\"The limits of your language are the limits o...</td>\n",
       "      <td>NaN</td>\n",
       "      <td>NaN</td>\n",
       "      <td>My students need opportunities to practice beg...</td>\n",
       "      <td>0</td>\n",
       "      <td>0</td>\n",
       "    </tr>\n",
       "    <tr>\n",
       "      <th>1</th>\n",
       "      <td>140945</td>\n",
       "      <td>p258326</td>\n",
       "      <td>897464ce9ddc600bced1151f324dd63a</td>\n",
       "      <td>Mr.</td>\n",
       "      <td>FL</td>\n",
       "      <td>2016-10-25 09:22:10</td>\n",
       "      <td>Grades 6-8</td>\n",
       "      <td>History &amp; Civics, Health &amp; Sports</td>\n",
       "      <td>Civics &amp; Government, Team Sports</td>\n",
       "      <td>Wanted: Projector for Hungry Learners</td>\n",
       "      <td>Our students arrive to our school eager to lea...</td>\n",
       "      <td>The projector we need for our school is very c...</td>\n",
       "      <td>NaN</td>\n",
       "      <td>NaN</td>\n",
       "      <td>My students need a projector to help with view...</td>\n",
       "      <td>7</td>\n",
       "      <td>1</td>\n",
       "    </tr>\n",
       "    <tr>\n",
       "      <th>2</th>\n",
       "      <td>21895</td>\n",
       "      <td>p182444</td>\n",
       "      <td>3465aaf82da834c0582ebd0ef8040ca0</td>\n",
       "      <td>Ms.</td>\n",
       "      <td>AZ</td>\n",
       "      <td>2016-08-31 12:03:56</td>\n",
       "      <td>Grades 6-8</td>\n",
       "      <td>Health &amp; Sports</td>\n",
       "      <td>Health &amp; Wellness, Team Sports</td>\n",
       "      <td>Soccer Equipment for AWESOME Middle School Stu...</td>\n",
       "      <td>\\r\\n\\\"True champions aren't always the ones th...</td>\n",
       "      <td>The students on the campus come to school know...</td>\n",
       "      <td>NaN</td>\n",
       "      <td>NaN</td>\n",
       "      <td>My students need shine guards, athletic socks,...</td>\n",
       "      <td>1</td>\n",
       "      <td>0</td>\n",
       "    </tr>\n",
       "    <tr>\n",
       "      <th>3</th>\n",
       "      <td>45</td>\n",
       "      <td>p246581</td>\n",
       "      <td>f3cb9bffbba169bef1a77b243e620b60</td>\n",
       "      <td>Mrs.</td>\n",
       "      <td>KY</td>\n",
       "      <td>2016-10-06 21:16:17</td>\n",
       "      <td>Grades PreK-2</td>\n",
       "      <td>Literacy &amp; Language, Math &amp; Science</td>\n",
       "      <td>Literacy, Mathematics</td>\n",
       "      <td>Techie Kindergarteners</td>\n",
       "      <td>I work at a unique school filled with both ESL...</td>\n",
       "      <td>My students live in high poverty conditions wi...</td>\n",
       "      <td>NaN</td>\n",
       "      <td>NaN</td>\n",
       "      <td>My students need to engage in Reading and Math...</td>\n",
       "      <td>4</td>\n",
       "      <td>1</td>\n",
       "    </tr>\n",
       "    <tr>\n",
       "      <th>4</th>\n",
       "      <td>172407</td>\n",
       "      <td>p104768</td>\n",
       "      <td>be1f7507a41f8479dc06f047086a39ec</td>\n",
       "      <td>Mrs.</td>\n",
       "      <td>TX</td>\n",
       "      <td>2016-07-11 01:10:09</td>\n",
       "      <td>Grades PreK-2</td>\n",
       "      <td>Math &amp; Science</td>\n",
       "      <td>Mathematics</td>\n",
       "      <td>Interactive Math Tools</td>\n",
       "      <td>Our second grade classroom next year will be m...</td>\n",
       "      <td>For many students, math is a subject that does...</td>\n",
       "      <td>NaN</td>\n",
       "      <td>NaN</td>\n",
       "      <td>My students need hands on practice in mathemat...</td>\n",
       "      <td>1</td>\n",
       "      <td>1</td>\n",
       "    </tr>\n",
       "  </tbody>\n",
       "</table>\n",
       "</div>"
      ],
      "text/plain": [
       "   Unnamed: 0       id                        teacher_id teacher_prefix  \\\n",
       "0      160221  p253737  c90749f5d961ff158d4b4d1e7dc665fc           Mrs.   \n",
       "1      140945  p258326  897464ce9ddc600bced1151f324dd63a            Mr.   \n",
       "2       21895  p182444  3465aaf82da834c0582ebd0ef8040ca0            Ms.   \n",
       "3          45  p246581  f3cb9bffbba169bef1a77b243e620b60           Mrs.   \n",
       "4      172407  p104768  be1f7507a41f8479dc06f047086a39ec           Mrs.   \n",
       "\n",
       "  school_state project_submitted_datetime project_grade_category  \\\n",
       "0           IN        2016-12-05 13:43:57          Grades PreK-2   \n",
       "1           FL        2016-10-25 09:22:10             Grades 6-8   \n",
       "2           AZ        2016-08-31 12:03:56             Grades 6-8   \n",
       "3           KY        2016-10-06 21:16:17          Grades PreK-2   \n",
       "4           TX        2016-07-11 01:10:09          Grades PreK-2   \n",
       "\n",
       "            project_subject_categories     project_subject_subcategories  \\\n",
       "0                  Literacy & Language                     ESL, Literacy   \n",
       "1    History & Civics, Health & Sports  Civics & Government, Team Sports   \n",
       "2                      Health & Sports    Health & Wellness, Team Sports   \n",
       "3  Literacy & Language, Math & Science             Literacy, Mathematics   \n",
       "4                       Math & Science                       Mathematics   \n",
       "\n",
       "                                       project_title  \\\n",
       "0   Educational Support for English Learners at Home   \n",
       "1              Wanted: Projector for Hungry Learners   \n",
       "2  Soccer Equipment for AWESOME Middle School Stu...   \n",
       "3                             Techie Kindergarteners   \n",
       "4                             Interactive Math Tools   \n",
       "\n",
       "                                     project_essay_1  \\\n",
       "0  My students are English learners that are work...   \n",
       "1  Our students arrive to our school eager to lea...   \n",
       "2  \\r\\n\\\"True champions aren't always the ones th...   \n",
       "3  I work at a unique school filled with both ESL...   \n",
       "4  Our second grade classroom next year will be m...   \n",
       "\n",
       "                                     project_essay_2 project_essay_3  \\\n",
       "0  \\\"The limits of your language are the limits o...             NaN   \n",
       "1  The projector we need for our school is very c...             NaN   \n",
       "2  The students on the campus come to school know...             NaN   \n",
       "3  My students live in high poverty conditions wi...             NaN   \n",
       "4  For many students, math is a subject that does...             NaN   \n",
       "\n",
       "  project_essay_4                           project_resource_summary  \\\n",
       "0             NaN  My students need opportunities to practice beg...   \n",
       "1             NaN  My students need a projector to help with view...   \n",
       "2             NaN  My students need shine guards, athletic socks,...   \n",
       "3             NaN  My students need to engage in Reading and Math...   \n",
       "4             NaN  My students need hands on practice in mathemat...   \n",
       "\n",
       "   teacher_number_of_previously_posted_projects  project_is_approved  \n",
       "0                                             0                    0  \n",
       "1                                             7                    1  \n",
       "2                                             1                    0  \n",
       "3                                             4                    1  \n",
       "4                                             1                    1  "
      ]
     },
     "execution_count": 7,
     "metadata": {},
     "output_type": "execute_result"
    }
   ],
   "source": [
    "project_data = pandas.read_csv('train_data.csv',nrows=35000)\n",
    "project_data.head()"
   ]
  },
  {
   "cell_type": "code",
   "execution_count": 8,
   "metadata": {},
   "outputs": [
    {
     "name": "stdout",
     "output_type": "stream",
     "text": [
      "<class 'pandas.core.frame.DataFrame'>\n",
      "RangeIndex: 35000 entries, 0 to 34999\n",
      "Data columns (total 17 columns):\n",
      " #   Column                                        Non-Null Count  Dtype \n",
      "---  ------                                        --------------  ----- \n",
      " 0   Unnamed: 0                                    35000 non-null  int64 \n",
      " 1   id                                            35000 non-null  object\n",
      " 2   teacher_id                                    35000 non-null  object\n",
      " 3   teacher_prefix                                34998 non-null  object\n",
      " 4   school_state                                  35000 non-null  object\n",
      " 5   project_submitted_datetime                    35000 non-null  object\n",
      " 6   project_grade_category                        35000 non-null  object\n",
      " 7   project_subject_categories                    35000 non-null  object\n",
      " 8   project_subject_subcategories                 35000 non-null  object\n",
      " 9   project_title                                 35000 non-null  object\n",
      " 10  project_essay_1                               35000 non-null  object\n",
      " 11  project_essay_2                               35000 non-null  object\n",
      " 12  project_essay_3                               1187 non-null   object\n",
      " 13  project_essay_4                               1187 non-null   object\n",
      " 14  project_resource_summary                      35000 non-null  object\n",
      " 15  teacher_number_of_previously_posted_projects  35000 non-null  int64 \n",
      " 16  project_is_approved                           35000 non-null  int64 \n",
      "dtypes: int64(3), object(14)\n",
      "memory usage: 4.5+ MB\n"
     ]
    }
   ],
   "source": [
    "project_data.info()"
   ]
  },
  {
   "cell_type": "markdown",
   "metadata": {},
   "source": [
    "## 1.1.1 Preprocessing project_title and adding project_title column to preprocessed data"
   ]
  },
  {
   "cell_type": "code",
   "execution_count": 9,
   "metadata": {},
   "outputs": [],
   "source": [
    "import re\n",
    "\n",
    "def decontracted(phrase):\n",
    "    # specific\n",
    "    phrase = re.sub(r\"won't\", \"will not\", phrase)\n",
    "    phrase = re.sub(r\"can\\'t\", \"can not\", phrase)\n",
    "\n",
    "    # general\n",
    "    phrase = re.sub(r\"n\\'t\", \" not\", phrase)\n",
    "    phrase = re.sub(r\"\\'re\", \" are\", phrase)\n",
    "    phrase = re.sub(r\"\\'s\", \" is\", phrase)\n",
    "    phrase = re.sub(r\"\\'d\", \" would\", phrase)\n",
    "    phrase = re.sub(r\"\\'ll\", \" will\", phrase)\n",
    "    phrase = re.sub(r\"\\'t\", \" not\", phrase)\n",
    "    phrase = re.sub(r\"\\'ve\", \" have\", phrase)\n",
    "    phrase = re.sub(r\"\\'m\", \" am\", phrase)\n",
    "    return phrase"
   ]
  },
  {
   "cell_type": "code",
   "execution_count": 10,
   "metadata": {},
   "outputs": [],
   "source": [
    "# we are removing the words from the stop words list: 'no', 'nor', 'not'\n",
    "stopwords= ['i', 'me', 'my', 'myself', 'we', 'our', 'ours', 'ourselves', 'you', \"you're\", \"you've\",\\\n",
    "            \"you'll\", \"you'd\", 'your', 'yours', 'yourself', 'yourselves', 'he', 'him', 'his', 'himself', \\\n",
    "            'she', \"she's\", 'her', 'hers', 'herself', 'it', \"it's\", 'its', 'itself', 'they', 'them', 'their',\\\n",
    "            'theirs', 'themselves', 'what', 'which', 'who', 'whom', 'this', 'that', \"that'll\", 'these', 'those', \\\n",
    "            'am', 'is', 'are', 'was', 'were', 'be', 'been', 'being', 'have', 'has', 'had', 'having', 'do', 'does', \\\n",
    "            'did', 'doing', 'a', 'an', 'the', 'and', 'but', 'if', 'or', 'because', 'as', 'until', 'while', 'of', \\\n",
    "            'at', 'by', 'for', 'with', 'about', 'against', 'between', 'into', 'through', 'during', 'before', 'after',\\\n",
    "            'above', 'below', 'to', 'from', 'up', 'down', 'in', 'out', 'on', 'off', 'over', 'under', 'again', 'further',\\\n",
    "            'then', 'once', 'here', 'there', 'when', 'where', 'why', 'how', 'all', 'any', 'both', 'each', 'few', 'more',\\\n",
    "            'most', 'other', 'some', 'such', 'only', 'own', 'same', 'so', 'than', 'too', 'very', \\\n",
    "            's', 't', 'can', 'will', 'just', 'don', \"don't\", 'should', \"should've\", 'now', 'd', 'll', 'm', 'o', 're', \\\n",
    "            've', 'y', 'ain', 'aren', \"aren't\", 'couldn', \"couldn't\", 'didn', \"didn't\", 'doesn', \"doesn't\", 'hadn',\\\n",
    "            \"hadn't\", 'hasn', \"hasn't\", 'haven', \"haven't\", 'isn', \"isn't\", 'ma', 'mightn', \"mightn't\", 'mustn',\\\n",
    "            \"mustn't\", 'needn', \"needn't\", 'shan', \"shan't\", 'shouldn', \"shouldn't\", 'wasn', \"wasn't\", 'weren', \"weren't\", \\\n",
    "            'won', \"won't\", 'wouldn', \"wouldn't\"]"
   ]
  },
  {
   "cell_type": "code",
   "execution_count": 11,
   "metadata": {},
   "outputs": [],
   "source": [
    "from tqdm import tqdm\n",
    "def preprocess_text(text_data):\n",
    "    preprocessed_text = []\n",
    "    # tqdm is for printing the status bar\n",
    "    for sentance in tqdm(text_data):\n",
    "        sent = decontracted(sentance)\n",
    "        sent = sent.replace('\\\\r', ' ')\n",
    "        sent = sent.replace('\\\\n', ' ')\n",
    "        sent = sent.replace('\\\\\"', ' ')\n",
    "        sent = re.sub('[^A-Za-z0-9]+', ' ', sent)\n",
    "        # https://gist.github.com/sebleier/554280\n",
    "        sent = ' '.join(e for e in sent.split() if e.lower() not in stopwords)\n",
    "        preprocessed_text.append(sent.lower().strip())\n",
    "    return preprocessed_text"
   ]
  },
  {
   "cell_type": "code",
   "execution_count": 12,
   "metadata": {},
   "outputs": [
    {
     "name": "stderr",
     "output_type": "stream",
     "text": [
      "100%|█████████████████████████████████████████████████████████████████████████| 35000/35000 [00:00<00:00, 45006.99it/s]\n"
     ]
    }
   ],
   "source": [
    "preprocessed_titles = preprocess_text(project_data['project_title'].values)"
   ]
  },
  {
   "cell_type": "code",
   "execution_count": 13,
   "metadata": {},
   "outputs": [
    {
     "name": "stdout",
     "output_type": "stream",
     "text": [
      "printing some random reviews\n",
      "9 Just For the Love of Reading--\\r\\nPure Pleasure\n",
      "34 \\\"Have A Ball!!!\\\"\n",
      "147 Who needs a Chromebook?\\r\\nWE DO!!\n"
     ]
    }
   ],
   "source": [
    "print(\"printing some random reviews\")\n",
    "print(9, project_data['project_title'].values[9])\n",
    "print(34, project_data['project_title'].values[34])\n",
    "print(147, project_data['project_title'].values[147])"
   ]
  },
  {
   "cell_type": "code",
   "execution_count": 14,
   "metadata": {},
   "outputs": [
    {
     "name": "stdout",
     "output_type": "stream",
     "text": [
      "printing some random reviews\n",
      "9 love reading pure pleasure\n",
      "34 ball\n",
      "147 needs chromebook\n"
     ]
    }
   ],
   "source": [
    "print(\"printing some random reviews\")\n",
    "print(9, preprocessed_titles[9])\n",
    "print(34, preprocessed_titles[34])\n",
    "print(147, preprocessed_titles[147])"
   ]
  },
  {
   "cell_type": "code",
   "execution_count": 15,
   "metadata": {},
   "outputs": [],
   "source": [
    "data['project_title'] = preprocessed_titles"
   ]
  },
  {
   "cell_type": "code",
   "execution_count": 16,
   "metadata": {},
   "outputs": [
    {
     "name": "stdout",
     "output_type": "stream",
     "text": [
      "<class 'pandas.core.frame.DataFrame'>\n",
      "RangeIndex: 35000 entries, 0 to 34999\n",
      "Data columns (total 10 columns):\n",
      " #   Column                                        Non-Null Count  Dtype  \n",
      "---  ------                                        --------------  -----  \n",
      " 0   school_state                                  35000 non-null  object \n",
      " 1   teacher_prefix                                35000 non-null  object \n",
      " 2   project_grade_category                        35000 non-null  object \n",
      " 3   teacher_number_of_previously_posted_projects  35000 non-null  int64  \n",
      " 4   project_is_approved                           35000 non-null  int64  \n",
      " 5   clean_categories                              35000 non-null  object \n",
      " 6   clean_subcategories                           35000 non-null  object \n",
      " 7   essay                                         35000 non-null  object \n",
      " 8   price                                         35000 non-null  float64\n",
      " 9   project_title                                 35000 non-null  object \n",
      "dtypes: float64(1), int64(2), object(7)\n",
      "memory usage: 2.7+ MB\n"
     ]
    }
   ],
   "source": [
    "data.info()"
   ]
  },
  {
   "cell_type": "markdown",
   "metadata": {},
   "source": [
    "## 1.1.2 Sentiment Analysis of essay feature"
   ]
  },
  {
   "cell_type": "code",
   "execution_count": 17,
   "metadata": {},
   "outputs": [
    {
     "name": "stderr",
     "output_type": "stream",
     "text": [
      "100%|███████████████████████████████████████████████████████████████████████████| 35000/35000 [00:56<00:00, 620.75it/s]\n"
     ]
    }
   ],
   "source": [
    "import nltk\n",
    "from nltk.sentiment.vader import SentimentIntensityAnalyzer\n",
    "sid = SentimentIntensityAnalyzer()\n",
    "negative = []\n",
    "positive = []\n",
    "neutral = []\n",
    "compound = []\n",
    "for sent in tqdm(data['essay']):\n",
    "    res = sid.polarity_scores(sent)\n",
    "    negative.append(res['neg'])\n",
    "    positive.append(res['pos'])\n",
    "    neutral.append(res['neu'])\n",
    "    compound.append(res['compound'])"
   ]
  },
  {
   "cell_type": "code",
   "execution_count": 18,
   "metadata": {},
   "outputs": [],
   "source": [
    "data['neg'] = negative\n",
    "data['pos'] = positive\n",
    "data['neu'] = neutral\n",
    "data['compound'] = compound"
   ]
  },
  {
   "cell_type": "markdown",
   "metadata": {
    "colab_type": "text",
    "id": "6lAMFKFcsc3j"
   },
   "source": [
    "<h2>1.2 Splitting data into Train and cross validation(or test): Stratified Sampling</h2>"
   ]
  },
  {
   "cell_type": "code",
   "execution_count": 19,
   "metadata": {
    "colab": {},
    "colab_type": "code",
    "id": "ODMijuuNsc3l"
   },
   "outputs": [],
   "source": [
    "# please write all the code with proper documentation, and proper titles for each subsection\n",
    "# go through documentations and blogs before you start coding\n",
    "# first figure out what to do, and then think about how to do.\n",
    "# reading and understanding error messages will be very much helpfull in debugging your code\n",
    "# when you plot any graph make sure you use \n",
    "    # a. Title, that describes your plot, this will be very helpful to the reader\n",
    "    # b. Legends if needed\n",
    "    # c. X-axis label\n",
    "    # d. Y-axis label"
   ]
  },
  {
   "cell_type": "code",
   "execution_count": 20,
   "metadata": {},
   "outputs": [],
   "source": [
    "y = data['project_is_approved']\n",
    "X = data.drop(['project_is_approved'],axis=1)"
   ]
  },
  {
   "cell_type": "code",
   "execution_count": 21,
   "metadata": {},
   "outputs": [
    {
     "name": "stdout",
     "output_type": "stream",
     "text": [
      "<class 'pandas.core.frame.DataFrame'>\n",
      "RangeIndex: 35000 entries, 0 to 34999\n",
      "Data columns (total 13 columns):\n",
      " #   Column                                        Non-Null Count  Dtype  \n",
      "---  ------                                        --------------  -----  \n",
      " 0   school_state                                  35000 non-null  object \n",
      " 1   teacher_prefix                                35000 non-null  object \n",
      " 2   project_grade_category                        35000 non-null  object \n",
      " 3   teacher_number_of_previously_posted_projects  35000 non-null  int64  \n",
      " 4   clean_categories                              35000 non-null  object \n",
      " 5   clean_subcategories                           35000 non-null  object \n",
      " 6   essay                                         35000 non-null  object \n",
      " 7   price                                         35000 non-null  float64\n",
      " 8   project_title                                 35000 non-null  object \n",
      " 9   neg                                           35000 non-null  float64\n",
      " 10  pos                                           35000 non-null  float64\n",
      " 11  neu                                           35000 non-null  float64\n",
      " 12  compound                                      35000 non-null  float64\n",
      "dtypes: float64(5), int64(1), object(7)\n",
      "memory usage: 3.5+ MB\n"
     ]
    }
   ],
   "source": [
    "X.info()"
   ]
  },
  {
   "cell_type": "markdown",
   "metadata": {},
   "source": [
    "## Import all important libraries"
   ]
  },
  {
   "cell_type": "code",
   "execution_count": 22,
   "metadata": {},
   "outputs": [],
   "source": [
    "import pandas as pd\n",
    "import numpy as np\n",
    "import matplotlib.pyplot as plt\n",
    "import seaborn as sns\n",
    "\n",
    "from sklearn.feature_extraction.text import TfidfVectorizer\n",
    "from sklearn.feature_extraction.text import CountVectorizer\n",
    "\n",
    "from sklearn.metrics import confusion_matrix\n",
    "from sklearn.metrics import roc_auc_score,auc\n",
    "from sklearn import metrics\n",
    "\n",
    "from tqdm import tqdm\n",
    "import os\n",
    "import warnings\n",
    "warnings.filterwarnings('ignore')\n",
    "from chart_studio.plotly import plotly\n",
    "import plotly.offline as offline\n",
    "\n",
    "from sklearn.model_selection import train_test_split"
   ]
  },
  {
   "cell_type": "code",
   "execution_count": 24,
   "metadata": {},
   "outputs": [
    {
     "data": {
      "text/plain": [
       "(11550, 13)"
      ]
     },
     "execution_count": 24,
     "metadata": {},
     "output_type": "execute_result"
    }
   ],
   "source": [
    "#Splitting data into train and test data sets\n",
    "X_train,X_test,y_train,y_test = train_test_split(X,y,test_size=0.33,stratify=y)\n",
    "X_train.shape\n",
    "X_test.shape"
   ]
  },
  {
   "cell_type": "markdown",
   "metadata": {
    "colab_type": "text",
    "id": "vsALgl5Asc3u"
   },
   "source": [
    "<h2>1.3 Make Data Model Ready: encoding eassay, and project_title</h2>"
   ]
  },
  {
   "cell_type": "code",
   "execution_count": 25,
   "metadata": {
    "colab": {},
    "colab_type": "code",
    "id": "1A_85jbWsc3v"
   },
   "outputs": [],
   "source": [
    "# please write all the code with proper documentation, and proper titles for each subsection\n",
    "# go through documentations and blogs before you start coding\n",
    "# first figure out what to do, and then think about how to do.\n",
    "# reading and understanding error messages will be very much helpfull in debugging your code\n",
    "# make sure you featurize train and test data separatly\n",
    "\n",
    "# when you plot any graph make sure you use \n",
    "    # a. Title, that describes your plot, this will be very helpful to the reader\n",
    "    # b. Legends if needed\n",
    "    # c. X-axis label\n",
    "    # d. Y-axis label"
   ]
  },
  {
   "cell_type": "markdown",
   "metadata": {},
   "source": [
    "# 1.3.1 Computing tfidf and tifidf w2v on feature essay"
   ]
  },
  {
   "cell_type": "code",
   "execution_count": 26,
   "metadata": {},
   "outputs": [
    {
     "name": "stdout",
     "output_type": "stream",
     "text": [
      "Shape after performing tfidf_vectorization:\n",
      "====================================================================================================\n",
      "(23450, 30613) (23450,)\n",
      "(11550, 30613) (11550,)\n"
     ]
    }
   ],
   "source": [
    "vectorizer_tfidf = TfidfVectorizer()\n",
    "vectorizer_tfidf.fit(X_train['essay'].values)\n",
    "\n",
    "X_train_essay_tfidf = vectorizer_tfidf.transform(X_train['essay'].values)\n",
    "X_test_essay_tfidf = vectorizer_tfidf.transform(X_test['essay'].values)\n",
    "print(\"Shape after performing tfidf_vectorization:\")\n",
    "print(\"=\"*100)\n",
    "print(X_train_essay_tfidf.shape,y_train.shape)\n",
    "print(X_test_essay_tfidf.shape,y_test.shape)"
   ]
  },
  {
   "cell_type": "code",
   "execution_count": 27,
   "metadata": {},
   "outputs": [],
   "source": [
    "import pickle\n",
    "with open('glove_vectors', 'rb') as f:\n",
    "    model = pickle.load(f)\n",
    "    glove_words =  set(model.keys())"
   ]
  },
  {
   "cell_type": "code",
   "execution_count": 28,
   "metadata": {},
   "outputs": [],
   "source": [
    "dictionary = dict(zip(vectorizer_tfidf.get_feature_names(), list(vectorizer_tfidf.idf_)))\n",
    "tfidf_words = set(vectorizer_tfidf.get_feature_names())"
   ]
  },
  {
   "cell_type": "code",
   "execution_count": 29,
   "metadata": {},
   "outputs": [
    {
     "name": "stderr",
     "output_type": "stream",
     "text": [
      "100%|███████████████████████████████████████████████████████████████████████████| 23450/23450 [00:45<00:00, 518.75it/s]"
     ]
    },
    {
     "name": "stdout",
     "output_type": "stream",
     "text": [
      "23450\n",
      "300\n"
     ]
    },
    {
     "name": "stderr",
     "output_type": "stream",
     "text": [
      "\n"
     ]
    }
   ],
   "source": [
    "X_train_tfidf_w2v_vectors = []; # the avg-w2v for each sentence/review is stored in this list\n",
    "for sentence in tqdm(X_train['essay']): # for each review/sentence\n",
    "    vector = np.zeros(300) # as word vectors are of zero length\n",
    "    tf_idf_weight =0; # num of words with a valid vector in the sentence/review\n",
    "    for word in sentence.split(): # for each word in a review/sentence\n",
    "        if (word in glove_words) and (word in tfidf_words):\n",
    "            vec = model[word] # getting the vector for each word\n",
    "            # here we are multiplying idf value(dictionary[word]) and the tf value((sentence.count(word)/len(sentence.split())))\n",
    "            tf_idf = dictionary[word]*(sentence.count(word)/len(sentence.split())) # getting the tfidf value for each word\n",
    "            vector += (vec * tf_idf) # calculating tfidf weighted w2v\n",
    "            tf_idf_weight += tf_idf\n",
    "    if tf_idf_weight != 0:\n",
    "        vector /= tf_idf_weight\n",
    "    X_train_tfidf_w2v_vectors.append(vector)\n",
    "\n",
    "print(len(X_train_tfidf_w2v_vectors))\n",
    "print(len(X_train_tfidf_w2v_vectors[0]))"
   ]
  },
  {
   "cell_type": "code",
   "execution_count": 30,
   "metadata": {},
   "outputs": [
    {
     "name": "stderr",
     "output_type": "stream",
     "text": [
      "100%|███████████████████████████████████████████████████████████████████████████| 11550/11550 [00:26<00:00, 439.57it/s]"
     ]
    },
    {
     "name": "stdout",
     "output_type": "stream",
     "text": [
      "11550\n",
      "300\n"
     ]
    },
    {
     "name": "stderr",
     "output_type": "stream",
     "text": [
      "\n"
     ]
    }
   ],
   "source": [
    "X_test_tfidf_w2v_vectors = []\n",
    "for sentence in tqdm(X_test['essay']):\n",
    "    vector = np.zeros(300)\n",
    "    tf_idf_weight = 0\n",
    "    for word in sentence.split():\n",
    "        if (word in glove_words) and (word in tfidf_words):\n",
    "            vec = model['word']\n",
    "            tf_idf = dictionary[word]*(sentence.count(word)/len(sentence.split())) # getting the tfidf value for each word\n",
    "            vector += (vec * tf_idf) # calculating tfidf weighted w2v\n",
    "            tf_idf_weight += tf_idf\n",
    "    if tf_idf_weight != 0:\n",
    "        vector /= tf_idf_weight\n",
    "    X_test_tfidf_w2v_vectors.append(vector)\n",
    "\n",
    "print(len(X_test_tfidf_w2v_vectors))\n",
    "print(len(X_test_tfidf_w2v_vectors[0]))"
   ]
  },
  {
   "cell_type": "markdown",
   "metadata": {},
   "source": [
    "# 1.3.2 Computing tfidf and tifidf w2v on feature project_title\n"
   ]
  },
  {
   "cell_type": "code",
   "execution_count": 31,
   "metadata": {},
   "outputs": [
    {
     "name": "stdout",
     "output_type": "stream",
     "text": [
      "Shape after performing tfidf_vectorization:\n",
      "====================================================================================================\n",
      "(23450, 8094) (23450,)\n",
      "(11550, 8094) (11550,)\n"
     ]
    }
   ],
   "source": [
    "vectorizer_title = TfidfVectorizer()\n",
    "vectorizer_title.fit(X_train['project_title'].values)\n",
    "\n",
    "X_train_title_tfidf = vectorizer_title.transform(X_train['project_title'].values)\n",
    "X_test_title_tfidf = vectorizer_title.transform(X_test['project_title'].values)\n",
    "print(\"Shape after performing tfidf_vectorization:\")\n",
    "print(\"=\"*100)\n",
    "print(X_train_title_tfidf.shape,y_train.shape)\n",
    "print(X_test_title_tfidf.shape,y_test.shape)"
   ]
  },
  {
   "cell_type": "code",
   "execution_count": 32,
   "metadata": {},
   "outputs": [],
   "source": [
    "import pickle\n",
    "with open('glove_vectors', 'rb') as f:\n",
    "    model = pickle.load(f)\n",
    "    glove_words =  set(model.keys())"
   ]
  },
  {
   "cell_type": "code",
   "execution_count": 33,
   "metadata": {},
   "outputs": [],
   "source": [
    "dictionary = dict(zip(vectorizer_title.get_feature_names(), list(vectorizer_title.idf_)))\n",
    "tfidf_words = set(vectorizer_title.get_feature_names())"
   ]
  },
  {
   "cell_type": "code",
   "execution_count": 34,
   "metadata": {},
   "outputs": [
    {
     "name": "stderr",
     "output_type": "stream",
     "text": [
      "100%|█████████████████████████████████████████████████████████████████████████| 23450/23450 [00:00<00:00, 39922.18it/s]"
     ]
    },
    {
     "name": "stdout",
     "output_type": "stream",
     "text": [
      "23450\n",
      "300\n"
     ]
    },
    {
     "name": "stderr",
     "output_type": "stream",
     "text": [
      "\n"
     ]
    }
   ],
   "source": [
    "X_train_title_tfidf_w2v_vectors = []; # the avg-w2v for each sentence/review is stored in this list\n",
    "for sentence in tqdm(X_train['project_title']): # for each review/sentence\n",
    "    vector = np.zeros(300) # as word vectors are of zero length\n",
    "    tf_idf_weight =0; # num of words with a valid vector in the sentence/review\n",
    "    for word in sentence.split(): # for each word in a review/sentence\n",
    "        if (word in glove_words) and (word in tfidf_words):\n",
    "            vec = model[word] # getting the vector for each word\n",
    "            # here we are multiplying idf value(dictionary[word]) and the tf value((sentence.count(word)/len(sentence.split())))\n",
    "            tf_idf = dictionary[word]*(sentence.count(word)/len(sentence.split())) # getting the tfidf value for each word\n",
    "            vector += (vec * tf_idf) # calculating tfidf weighted w2v\n",
    "            tf_idf_weight += tf_idf\n",
    "    if tf_idf_weight != 0:\n",
    "        vector /= tf_idf_weight\n",
    "    X_train_title_tfidf_w2v_vectors.append(vector)\n",
    "\n",
    "print(len(X_train_title_tfidf_w2v_vectors))\n",
    "print(len(X_train_title_tfidf_w2v_vectors[0]))"
   ]
  },
  {
   "cell_type": "code",
   "execution_count": 35,
   "metadata": {},
   "outputs": [
    {
     "name": "stderr",
     "output_type": "stream",
     "text": [
      "100%|█████████████████████████████████████████████████████████████████████████| 11550/11550 [00:00<00:00, 37835.98it/s]"
     ]
    },
    {
     "name": "stdout",
     "output_type": "stream",
     "text": [
      "11550\n",
      "300\n"
     ]
    },
    {
     "name": "stderr",
     "output_type": "stream",
     "text": [
      "\n"
     ]
    }
   ],
   "source": [
    "X_test_title_tfidf_w2v_vectors = []\n",
    "for sentence in tqdm(X_test['project_title']):\n",
    "    vector = np.zeros(300)\n",
    "    tf_idf_weight = 0\n",
    "    for word in sentence.split():\n",
    "        if (word in glove_words) and (word in tfidf_words):\n",
    "            vec = model['word']\n",
    "            tf_idf = dictionary[word]*(sentence.count(word)/len(sentence.split())) # getting the tfidf value for each word\n",
    "            vector += (vec * tf_idf) # calculating tfidf weighted w2v\n",
    "            tf_idf_weight += tf_idf\n",
    "    if tf_idf_weight != 0:\n",
    "        vector /= tf_idf_weight\n",
    "    X_test_title_tfidf_w2v_vectors.append(vector)\n",
    "\n",
    "print(len(X_test_title_tfidf_w2v_vectors))\n",
    "print(len(X_test_title_tfidf_w2v_vectors[0]))"
   ]
  },
  {
   "cell_type": "markdown",
   "metadata": {
    "colab_type": "text",
    "id": "S3Vxxv2Hsc31"
   },
   "source": [
    "<h2>1.4 Make Data Model Ready: encoding numerical, categorical features</h2>"
   ]
  },
  {
   "cell_type": "code",
   "execution_count": 36,
   "metadata": {
    "colab": {},
    "colab_type": "code",
    "id": "RAtihVPqsc33"
   },
   "outputs": [],
   "source": [
    "# please write all the code with proper documentation, and proper titles for each subsection\n",
    "# go through documentations and blogs before you start coding \n",
    "# first figure out what to do, and then think about how to do.\n",
    "# reading and understanding error messages will be very much helpfull in debugging your code\n",
    "# make sure you featurize train and test data separatly\n",
    "\n",
    "# when you plot any graph make sure you use \n",
    "    # a. Title, that describes your plot, this will be very helpful to the reader\n",
    "    # b. Legends if needed\n",
    "    # c. X-axis label\n",
    "    # d. Y-axis label"
   ]
  },
  {
   "cell_type": "markdown",
   "metadata": {},
   "source": [
    "## 1.4.1 Defining a function to encode categorical as respond coding"
   ]
  },
  {
   "cell_type": "code",
   "execution_count": 37,
   "metadata": {},
   "outputs": [],
   "source": [
    "def fit(feature):\n",
    "    X_train['class_label']=y_train # adding 'project_is_approved' column to x_train\n",
    "    count = X_train[ feature ].value_counts() # getting value counts(denominator) of each category\n",
    "    feature_dictionary = dict()\n",
    "    for i, denominator in count.items():\n",
    "        vector = []\n",
    "        for j in range(2):\n",
    "            compare =X_train.loc[ ( X_train['class_label'] == j ) & (X_train[feature] == i ) ]\n",
    "            vector.append( len( compare)  / denominator   )\n",
    "        feature_dictionary[i] = vector    # adding probability of each class label for a pariticular category of feature\n",
    "    return feature_dictionary  \n",
    "def transform(feature, df ):\n",
    "    feature_dictionary = fit(feature)\n",
    "    count = X_train[feature].value_counts()\n",
    "    f=[]\n",
    "    for cat in df[feature]:\n",
    "        if cat in dict( count ).keys():# transform test data with trainning probabilities\n",
    "            f.append( feature_dictionary[cat] )\n",
    "        else:\n",
    "            f.append([0.5, 0.05])# Applying Laplace smoothing to data poits which are present in X_train but not in X_test\n",
    "    return f"
   ]
  },
  {
   "cell_type": "markdown",
   "metadata": {},
   "source": [
    "<h3>1.4.1 encoding categorical feature: school_state using response coding</h3>"
   ]
  },
  {
   "cell_type": "code",
   "execution_count": 38,
   "metadata": {},
   "outputs": [
    {
     "name": "stdout",
     "output_type": "stream",
     "text": [
      "After vectorization of feature_school_state:\n",
      "====================================================================================================\n",
      "(23450, 2) (23450,)\n",
      "(11550, 2) (11550,)\n"
     ]
    }
   ],
   "source": [
    "X_train_school_state = np.array(transform('school_state',X_train))\n",
    "\n",
    "X_test_school_state = np.array(transform('school_state',X_test))\n",
    "\n",
    "print(\"After vectorization of feature_school_state:\")\n",
    "print(\"=\"*100)\n",
    "print(X_train_school_state.shape,y_train.shape)\n",
    "print(X_test_school_state.shape,y_test.shape)\n",
    "\n"
   ]
  },
  {
   "cell_type": "markdown",
   "metadata": {},
   "source": [
    "<h3>1.4.2 encoding categorical feature: teacher_prefix using response coding</h3>"
   ]
  },
  {
   "cell_type": "code",
   "execution_count": 39,
   "metadata": {},
   "outputs": [
    {
     "name": "stdout",
     "output_type": "stream",
     "text": [
      "\n",
      "After vectorization of teacher_prefix:\n",
      "====================================================================================================\n",
      "(23450, 2) (23450,)\n",
      "(11550, 2) (11550,)\n"
     ]
    }
   ],
   "source": [
    "X_train_teacher_prefix = np.array(transform('teacher_prefix',X_train))\n",
    "\n",
    "X_test_teacher_prefix = np.array(transform('teacher_prefix',X_test))\n",
    "print(\"\\nAfter vectorization of teacher_prefix:\")\n",
    "print(\"=\"*100)\n",
    "print(X_train_teacher_prefix.shape,y_train.shape)\n",
    "\n",
    "print(X_test_teacher_prefix.shape,y_test.shape)"
   ]
  },
  {
   "cell_type": "markdown",
   "metadata": {},
   "source": [
    "<h3>1.4.3 encoding categorical feature: project_grade_category using response coding</h3>"
   ]
  },
  {
   "cell_type": "code",
   "execution_count": 40,
   "metadata": {},
   "outputs": [
    {
     "name": "stdout",
     "output_type": "stream",
     "text": [
      "\n",
      "Shape after vectorization of project_grade_category\n",
      "====================================================================================================\n",
      "(23450, 2) (23450,)\n",
      "(11550, 2) (11550,)\n"
     ]
    }
   ],
   "source": [
    "X_train_grade = np.array(transform('project_grade_category',X_train))\n",
    "\n",
    "X_test_grade = np.array(transform('project_grade_category',X_test))\n",
    "print(\"\\nShape after vectorization of project_grade_category\")\n",
    "print(\"=\"*100)\n",
    "print(X_train_grade.shape,y_train.shape)\n",
    "\n",
    "print(X_test_grade.shape,y_test.shape)"
   ]
  },
  {
   "cell_type": "markdown",
   "metadata": {},
   "source": [
    "<h3>1.4.4 encoding categorical feature: clean_categories using response coding</h3>"
   ]
  },
  {
   "cell_type": "code",
   "execution_count": 41,
   "metadata": {},
   "outputs": [
    {
     "name": "stdout",
     "output_type": "stream",
     "text": [
      "Shapes after vectorizing clean_categories feature:\n",
      "====================================================================================================\n",
      "(23450, 2) (23450,)\n",
      "(11550, 2) (11550,)\n"
     ]
    }
   ],
   "source": [
    "X_train_clean_cate = np.array(transform('clean_categories',X_train))\n",
    "X_test_clean_cate = np.array(transform('clean_categories',X_test))\n",
    "print(\"Shapes after vectorizing clean_categories feature:\")\n",
    "print(\"=\"*100)\n",
    "print(X_train_clean_cate.shape,y_train.shape)\n",
    "print(X_test_clean_cate.shape,y_test.shape)"
   ]
  },
  {
   "cell_type": "markdown",
   "metadata": {},
   "source": [
    "<h3>1.4.5 encoding categorical feature: clean_subcategories using response coding</h3>"
   ]
  },
  {
   "cell_type": "code",
   "execution_count": 42,
   "metadata": {},
   "outputs": [
    {
     "name": "stdout",
     "output_type": "stream",
     "text": [
      "Shapes after vectorizing clean_subcategories feature:\n",
      "====================================================================================================\n",
      "(23450, 2) (23450,)\n",
      "(11550, 2) (11550,)\n"
     ]
    }
   ],
   "source": [
    "X_train_subcate = np.array(transform('clean_subcategories',X_train))\n",
    "\n",
    "X_test_subcate = np.array(transform('clean_subcategories',X_test))\n",
    "print(\"Shapes after vectorizing clean_subcategories feature:\")\n",
    "print('='*100)\n",
    "print(X_train_subcate.shape,y_train.shape)\n",
    "\n",
    "print(X_test_subcate.shape,y_test.shape)"
   ]
  },
  {
   "cell_type": "code",
   "execution_count": 43,
   "metadata": {},
   "outputs": [],
   "source": [
    "# Encoding numerical features"
   ]
  },
  {
   "cell_type": "markdown",
   "metadata": {},
   "source": [
    "## 1.4.6 Encoding Numerical features using MinMaxScaler"
   ]
  },
  {
   "cell_type": "code",
   "execution_count": 44,
   "metadata": {},
   "outputs": [
    {
     "name": "stdout",
     "output_type": "stream",
     "text": [
      "encoding numerical features Price:\n",
      "====================================================================================================\n",
      "(23450, 1)\n",
      "(11550, 1)\n"
     ]
    }
   ],
   "source": [
    "from sklearn.preprocessing import MinMaxScaler\n",
    "price_scaler = MinMaxScaler()\n",
    "price_scaler.fit(X_train['price'].values.reshape(-1,1))\n",
    "X_train_price_scaler = price_scaler.transform(X_train['price'].values.reshape(-1,1))\n",
    "\n",
    "X_test_price_scaler = price_scaler.transform(X_test['price'].values.reshape(-1,1))\n",
    "print(\"encoding numerical features Price:\")\n",
    "print(\"=\"*100)\n",
    "print(X_train_price_scaler.shape)\n",
    "\n",
    "print(X_test_price_scaler.shape)"
   ]
  },
  {
   "cell_type": "code",
   "execution_count": 45,
   "metadata": {},
   "outputs": [
    {
     "name": "stdout",
     "output_type": "stream",
     "text": [
      "encoding numerical features teacher_number_of_previously_posted_projects:\n",
      "====================================================================================================\n",
      "(23450, 1)\n",
      "(11550, 1)\n"
     ]
    }
   ],
   "source": [
    "from sklearn.preprocessing import MinMaxScaler\n",
    "previous_year_scaler = MinMaxScaler()\n",
    "\n",
    "previous_year_scaler.fit(X_train['teacher_number_of_previously_posted_projects'].values.reshape(-1,1))\n",
    "\n",
    "X_train_previous_projects = previous_year_scaler.transform(X_train['teacher_number_of_previously_posted_projects'].values.reshape(-1,1))\n",
    "X_test_previous_projects = previous_year_scaler.transform(X_test['teacher_number_of_previously_posted_projects'].values.reshape(-1,1))\n",
    "\n",
    "print(\"encoding numerical features teacher_number_of_previously_posted_projects:\")\n",
    "print(\"=\"*100)\n",
    "print(X_train_previous_projects.shape)\n",
    "\n",
    "print(X_test_previous_projects.shape)"
   ]
  },
  {
   "cell_type": "code",
   "execution_count": 46,
   "metadata": {},
   "outputs": [
    {
     "name": "stdout",
     "output_type": "stream",
     "text": [
      "encoding numerical features negative values of sentiment analysis:\n",
      "====================================================================================================\n",
      "(23450, 1)\n",
      "(11550, 1)\n"
     ]
    }
   ],
   "source": [
    "from sklearn.preprocessing import MinMaxScaler\n",
    "negative_value_scaler = MinMaxScaler()\n",
    "\n",
    "negative_value_scaler.fit(X_train['neg'].values.reshape(-1,1))\n",
    "\n",
    "X_train_negative = negative_value_scaler.transform(X_train['neg'].values.reshape(-1,1))\n",
    "X_test_negative = negative_value_scaler.transform(X_test['neg'].values.reshape(-1,1))\n",
    "\n",
    "print(\"encoding numerical features negative values of sentiment analysis:\")\n",
    "print(\"=\"*100)\n",
    "print(X_train_negative.shape)\n",
    "\n",
    "print(X_test_negative.shape)"
   ]
  },
  {
   "cell_type": "code",
   "execution_count": 47,
   "metadata": {},
   "outputs": [
    {
     "name": "stdout",
     "output_type": "stream",
     "text": [
      "encoding numerical features positive values of sentiment analysis:\n",
      "====================================================================================================\n",
      "(23450, 1)\n",
      "(11550, 1)\n"
     ]
    }
   ],
   "source": [
    "from sklearn.preprocessing import MinMaxScaler\n",
    "positive_value_scaler = MinMaxScaler()\n",
    "\n",
    "positive_value_scaler.fit(X_train['pos'].values.reshape(-1,1))\n",
    "\n",
    "X_train_positive = positive_value_scaler.transform(X_train['pos'].values.reshape(-1,1))\n",
    "X_test_positive =positive_value_scaler.transform(X_test['pos'].values.reshape(-1,1))\n",
    "\n",
    "print(\"encoding numerical features positive values of sentiment analysis:\")\n",
    "print(\"=\"*100)\n",
    "print(X_train_positive.shape)\n",
    "\n",
    "print(X_test_positive.shape)"
   ]
  },
  {
   "cell_type": "code",
   "execution_count": 48,
   "metadata": {},
   "outputs": [
    {
     "name": "stdout",
     "output_type": "stream",
     "text": [
      "encoding numerical features neutral values of sentiment analysis:\n",
      "====================================================================================================\n",
      "(23450, 1)\n",
      "(11550, 1)\n"
     ]
    }
   ],
   "source": [
    "from sklearn.preprocessing import MinMaxScaler\n",
    "neutral_value_scaler = MinMaxScaler()\n",
    "\n",
    "neutral_value_scaler.fit(X_train['neu'].values.reshape(-1,1))\n",
    "\n",
    "X_train_neutral =neutral_value_scaler.transform(X_train['neu'].values.reshape(-1,1))\n",
    "X_test_neutral = neutral_value_scaler.transform(X_test['neu'].values.reshape(-1,1))\n",
    "\n",
    "print(\"encoding numerical features neutral values of sentiment analysis:\")\n",
    "print(\"=\"*100)\n",
    "print(X_train_neutral.shape)\n",
    "\n",
    "print(X_test_neutral.shape)"
   ]
  },
  {
   "cell_type": "code",
   "execution_count": 49,
   "metadata": {},
   "outputs": [
    {
     "name": "stdout",
     "output_type": "stream",
     "text": [
      "encoding numerical features coumpond values of sentiment analysis:\n",
      "====================================================================================================\n",
      "(23450, 1)\n",
      "(11550, 1)\n"
     ]
    }
   ],
   "source": [
    "from sklearn.preprocessing import MinMaxScaler\n",
    "compound_value_scaler = MinMaxScaler()\n",
    "\n",
    "compound_value_scaler.fit(X_train['neu'].values.reshape(-1,1))\n",
    "\n",
    "X_train_compound = compound_value_scaler.transform(X_train['compound'].values.reshape(-1,1))\n",
    "X_test_compound = compound_value_scaler.transform(X_test['compound'].values.reshape(-1,1))\n",
    "\n",
    "print(\"encoding numerical features coumpond values of sentiment analysis:\")\n",
    "print(\"=\"*100)\n",
    "print(X_train_compound.shape)\n",
    "\n",
    "print(X_test_compound.shape)"
   ]
  },
  {
   "cell_type": "markdown",
   "metadata": {},
   "source": [
    "## Set 1: categorical, numerical features + preprocessed_eassay (TFIDF)+preprocessed_title(TFIDF)"
   ]
  },
  {
   "cell_type": "code",
   "execution_count": 50,
   "metadata": {},
   "outputs": [
    {
     "name": "stdout",
     "output_type": "stream",
     "text": [
      "(23450, 38723) (23450,)\n",
      "(11550, 38723) (11550,)\n"
     ]
    }
   ],
   "source": [
    "from scipy.sparse import hstack\n",
    "\n",
    "X_tr_tfidf = hstack((X_train_school_state,X_train_clean_cate,X_train_grade,X_train_subcate,X_train_teacher_prefix,X_train_essay_tfidf,X_train_title_tfidf,X_train_price_scaler,X_train_previous_projects,\n",
    "                     X_train_negative,X_train_positive,X_train_neutral,X_train_compound))\n",
    "X_ts_tfidf = hstack((X_test_school_state,X_test_clean_cate,X_test_grade,X_test_subcate,X_test_teacher_prefix,X_test_essay_tfidf,X_test_title_tfidf,X_test_price_scaler,X_test_previous_projects,\n",
    "                     X_test_negative,X_test_positive,X_test_neutral,X_test_compound))\n",
    "\n",
    "X_tr_tfidf = X_tr_tfidf.tocsr()\n",
    "X_ts_tfidf = X_ts_tfidf.tocsr()\n",
    "\n",
    "print(X_tr_tfidf.shape,y_train.shape)\n",
    "\n",
    "print(X_ts_tfidf.shape,y_test.shape)"
   ]
  },
  {
   "cell_type": "markdown",
   "metadata": {},
   "source": [
    "## Set 2: categorical, numerical features + preprocessed_eassay (TFIDF_W2Vec)+preprocessed_title(TFIDF_W2Vec)"
   ]
  },
  {
   "cell_type": "code",
   "execution_count": 51,
   "metadata": {},
   "outputs": [
    {
     "name": "stdout",
     "output_type": "stream",
     "text": [
      "(23450, 8710) (23450,)\n",
      "(11550, 8710) (11550,)\n"
     ]
    }
   ],
   "source": [
    "from scipy.sparse import hstack\n",
    "\n",
    "X_tr_tfidf_w2v = hstack((X_train_school_state,X_train_clean_cate,X_train_grade,X_train_subcate,X_train_teacher_prefix,X_train_tfidf_w2v_vectors,X_train_title_tfidf_w2v_vectors,X_train_title_tfidf,X_train_price_scaler,X_train_previous_projects,\n",
    "                     X_train_negative,X_train_positive,X_train_neutral,X_train_compound))\n",
    "X_ts_tfidf_w2v = hstack((X_test_school_state,X_test_clean_cate,X_test_grade,X_test_subcate,X_test_teacher_prefix,X_test_tfidf_w2v_vectors,X_test_title_tfidf_w2v_vectors,X_test_title_tfidf,X_test_price_scaler,X_test_previous_projects,\n",
    "                     X_test_negative,X_test_positive,X_test_neutral,X_test_compound))\n",
    "\n",
    "X_tr_tfidf_w2v = X_tr_tfidf_w2v.tocsr()\n",
    "X_ts_tfidf_w2v = X_ts_tfidf_w2v.tocsr()\n",
    "\n",
    "print(X_tr_tfidf_w2v.shape,y_train.shape)\n",
    "\n",
    "print(X_ts_tfidf_w2v.shape,y_test.shape)"
   ]
  },
  {
   "cell_type": "code",
   "execution_count": null,
   "metadata": {},
   "outputs": [],
   "source": []
  },
  {
   "cell_type": "markdown",
   "metadata": {
    "colab_type": "text",
    "id": "I5wDFj17sc3-"
   },
   "source": [
    "<h2>1.5 Appling Models on different kind of featurization as mentioned in the instructions</h2>"
   ]
  },
  {
   "cell_type": "markdown",
   "metadata": {
    "colab_type": "text",
    "id": "O5tWox1jsc3_"
   },
   "source": [
    "<br>Apply GBDT on different kind of featurization as mentioned in the instructions\n",
    "<br> For Every model that you work on make sure you do the step 2 and step 3 of instrucations"
   ]
  },
  {
   "cell_type": "code",
   "execution_count": 52,
   "metadata": {
    "colab": {},
    "colab_type": "code",
    "id": "ARWulYUwsc4B"
   },
   "outputs": [],
   "source": [
    "# please write all the code with proper documentation, and proper titles for each subsection\n",
    "# go through documentations and blogs before you start coding\n",
    "# first figure out what to do, and then think about how to do.\n",
    "# reading and understanding error messages will be very much helpfull in debugging your code\n",
    "# when you plot any graph make sure you use \n",
    "    # a. Title, that describes your plot, this will be very helpful to the reader\n",
    "    # b. Legends if needed\n",
    "    # c. X-axis label\n",
    "    # d. Y-axis label"
   ]
  },
  {
   "cell_type": "markdown",
   "metadata": {},
   "source": [
    "# GRADIENT BOOSTING CLASSIFIER USING GRID SEARCH CROSS VALIDATION (SET - 1)"
   ]
  },
  {
   "cell_type": "code",
   "execution_count": 53,
   "metadata": {},
   "outputs": [
    {
     "data": {
      "text/plain": [
       "GridSearchCV(cv=5, estimator=GradientBoostingClassifier(), n_jobs=-1,\n",
       "             param_grid={'max_depth': [1, 3, 5, 6],\n",
       "                         'n_estimators': [5, 10, 15, 20]},\n",
       "             return_train_score=True, scoring='roc_auc')"
      ]
     },
     "execution_count": 53,
     "metadata": {},
     "output_type": "execute_result"
    }
   ],
   "source": [
    "from sklearn.ensemble import GradientBoostingClassifier\n",
    "from sklearn.model_selection import GridSearchCV\n",
    "parameters = {\"max_depth\":[1,3,5,6],\"n_estimators\":[5,10,15,20] }\n",
    "clf1 = GridSearchCV(GradientBoostingClassifier(), parameters, cv=5,  scoring='roc_auc',return_train_score=True,n_jobs=-1)\n",
    "clf1.fit(X_tr_tfidf,y_train)"
   ]
  },
  {
   "cell_type": "code",
   "execution_count": 54,
   "metadata": {},
   "outputs": [],
   "source": [
    "result1 = pd.DataFrame(clf1.cv_results_)\n",
    "train_auc= result1['mean_train_score']\n",
    "train_auc_std=result1['std_train_score']\n",
    "cv_auc = result1['mean_test_score']\n",
    "cv_auc_std = result1['std_test_score']\n",
    "bestMaxdepth_1 = clf1.best_params_['max_depth']\n",
    "bestestimator_1 = clf1.best_params_['n_estimators']\n",
    "bestscore_1 = clf1.best_score_"
   ]
  },
  {
   "cell_type": "code",
   "execution_count": 55,
   "metadata": {},
   "outputs": [
    {
     "name": "stdout",
     "output_type": "stream",
     "text": [
      "Best Max Depth: 6 Best estimator: 20 Best Score: 0.6931957819096095\n"
     ]
    }
   ],
   "source": [
    "print(\"Best Max Depth:\",bestMaxdepth_1,\"Best estimator:\",bestestimator_1,\"Best Score:\",bestscore_1)"
   ]
  },
  {
   "cell_type": "code",
   "execution_count": 56,
   "metadata": {},
   "outputs": [
    {
     "data": {
      "image/png": "[encoded data removed]",
      "text/plain": [
       "<Figure size 720x432 with 2 Axes>"
      ]
     },
     "metadata": {
      "needs_background": "light"
     },
     "output_type": "display_data"
    }
   ],
   "source": [
    "import pandas as pd\n",
    "pvt = pd.pivot_table(result1,\n",
    "    values='mean_train_score', index='param_max_depth', columns='param_n_estimators') #https://stackoverflow.com/questions/48791709/how-to-plot-a-heat-map-on-pivot-table-after-grid-search\n",
    "plt.figure(figsize=(10,6))\n",
    "ax=sns.heatmap(pvt,annot=True,linewidths=.5)"
   ]
  },
  {
   "cell_type": "code",
   "execution_count": 57,
   "metadata": {},
   "outputs": [
    {
     "data": {
      "image/png": "[encoded data removed]",
      "text/plain": [
       "<Figure size 720x432 with 2 Axes>"
      ]
     },
     "metadata": {
      "needs_background": "light"
     },
     "output_type": "display_data"
    }
   ],
   "source": [
    "import pandas as pd\n",
    "pvt = pd.pivot_table(result1,\n",
    "    values='mean_test_score', index='param_max_depth', columns='param_n_estimators') #https://stackoverflow.com/questions/48791709/how-to-plot-a-heat-map-on-pivot-table-after-grid-search\n",
    "plt.figure(figsize=(10,6))\n",
    "ax=sns.heatmap(pvt,annot=True,linewidths=.5)"
   ]
  },
  {
   "cell_type": "markdown",
   "metadata": {},
   "source": [
    "Roc Plot Of Train And Test Data"
   ]
  },
  {
   "cell_type": "code",
   "execution_count": 60,
   "metadata": {},
   "outputs": [
    {
     "data": {
      "image/png": "[encoded data removed]",
      "text/plain": [
       "<Figure size 432x288 with 1 Axes>"
      ]
     },
     "metadata": {
      "needs_background": "light"
     },
     "output_type": "display_data"
    }
   ],
   "source": [
    "from sklearn.metrics import roc_auc_score,auc\n",
    "from sklearn.metrics import roc_curve\n",
    "dt_tfidf_testModel = GradientBoostingClassifier(max_depth=bestMaxdepth_1,n_estimators=10)\n",
    "dt_tfidf_testModel.fit(X_tr_tfidf,y_train)\n",
    "\n",
    "y_train_pred = dt_tfidf_testModel.predict_proba(X_tr_tfidf)[:,1]\n",
    "y_test_pred = dt_tfidf_testModel.predict_proba(X_ts_tfidf)[:,1]\n",
    "\n",
    "predictions_train_set1 = dt_tfidf_testModel.predict(X_tr_tfidf)\n",
    "predictions_test_set1 = dt_tfidf_testModel.predict(X_ts_tfidf)\n",
    "\n",
    "train_fpr,train_tpr,train_thresholds = roc_curve(y_train,y_train_pred)\n",
    "test_fpr,test_tpr,test_thresholds = roc_curve(y_test,y_test_pred)\n",
    "\n",
    "train_auc = auc(train_fpr,train_tpr)\n",
    "test_auc = auc(test_fpr,test_tpr)\n",
    "\n",
    "plt.plot(train_fpr,train_tpr,label='train_auc_curve='+str(train_auc))\n",
    "plt.plot(test_fpr,test_tpr,label='test_auc_curve='+str(test_auc))\n",
    "plt.grid()\n",
    "plt.xlabel('Flase Positive Rate')\n",
    "plt.plot([0, 1], [0, 1])\n",
    "plt.ylabel('True Positive Rate')\n",
    "plt.legend()\n",
    "plt.title(\"FPR vs TPR\")\n",
    "plt.show()\n"
   ]
  },
  {
   "cell_type": "code",
   "execution_count": 61,
   "metadata": {},
   "outputs": [],
   "source": [
    "def best_threshold(threshould,fpr,tpr):\n",
    "    t = threshould[np.argmax(tpr*(1-fpr))]\n",
    "     # (tpr*(1-fpr)) will be maximum if your fpr is very low and tpr is very high\n",
    "    print(\"the maximum value of tpr*(1-fpr)\", max(tpr*(1-fpr)), \"for threshold\", np.round(t,3))\n",
    "    return t\n",
    "def predict_with_best_t(proba,threshould):\n",
    "    predictions = []\n",
    "    for i in proba:\n",
    "        if i>=threshould:\n",
    "            predictions.append(1)\n",
    "        else:\n",
    "            predictions.append(0)\n",
    "    return predictions"
   ]
  },
  {
   "cell_type": "markdown",
   "metadata": {},
   "source": [
    "## Confusion Matrix of Train and Test datasets"
   ]
  },
  {
   "cell_type": "code",
   "execution_count": 62,
   "metadata": {},
   "outputs": [
    {
     "name": "stdout",
     "output_type": "stream",
     "text": [
      "====================================================================================================\n",
      "the maximum value of tpr*(1-fpr) 0.5103427593084456 for threshold 0.838\n",
      "Train_Set1_Confusion_matrix\n",
      "[[ 2400  1199]\n",
      " [ 4659 15192]]\n",
      "====================================================================================================\n",
      "Test_Set1_Confusion_matrix\n",
      "[[ 883  889]\n",
      " [2700 7078]]\n"
     ]
    }
   ],
   "source": [
    "print(\"=\"*100)\n",
    "from sklearn.metrics import confusion_matrix\n",
    "best_t = best_threshold(train_thresholds,train_fpr,train_tpr)\n",
    "print(\"Train_Set1_Confusion_matrix\")\n",
    "print(confusion_matrix(y_train,predict_with_best_t(y_train_pred,best_t)))\n",
    "print(\"=\"*100)\n",
    "print(\"Test_Set1_Confusion_matrix\")\n",
    "print(confusion_matrix(y_test,predict_with_best_t(y_test_pred,best_t)))"
   ]
  },
  {
   "cell_type": "code",
   "execution_count": 63,
   "metadata": {},
   "outputs": [
    {
     "data": {
      "image/png": "[encoded data removed]",
      "text/plain": [
       "<Figure size 432x288 with 2 Axes>"
      ]
     },
     "metadata": {
      "needs_background": "light"
     },
     "output_type": "display_data"
    },
    {
     "name": "stdout",
     "output_type": "stream",
     "text": [
      "====================================================================================================\n"
     ]
    },
    {
     "data": {
      "image/png": "[encoded data removed]",
      "text/plain": [
       "<Figure size 432x288 with 2 Axes>"
      ]
     },
     "metadata": {
      "needs_background": "light"
     },
     "output_type": "display_data"
    }
   ],
   "source": [
    "import seaborn as sns\n",
    "heatmap_train = sns.heatmap(confusion_matrix(y_train,predict_with_best_t(y_train_pred,best_t)),annot=True,fmt = 'd')\n",
    "plt.title(\"Train_set1_confusion_matrix\")\n",
    "plt.xlabel(\"Actual\")\n",
    "plt.ylabel(\"Predicted\")\n",
    "plt.show()\n",
    "print(\"=\"*100)\n",
    "heatmap_test = sns.heatmap(confusion_matrix(y_test,predict_with_best_t(y_test_pred,best_t)),annot=True,fmt='d')\n",
    "plt.title(\"Test_Set1_confusion_matrix\")\n",
    "plt.xlabel('Actual')\n",
    "plt.ylabel('Predicted')\n",
    "plt.show()"
   ]
  },
  {
   "cell_type": "markdown",
   "metadata": {},
   "source": [
    "# GRADIENT BOOSTING CLASSIFIER USING GRID SEARCH CROSS VALIDATION (SET - 2)"
   ]
  },
  {
   "cell_type": "code",
   "execution_count": null,
   "metadata": {},
   "outputs": [],
   "source": [
    "from sklearn.ensemble import GradientBoostingClassifier\n",
    "from sklearn.model_selection import GridSearchCV\n",
    "parameters = {\"max_depth\":[1,3,5,6],\"n_estimators\":[5,10,15,20] }\n",
    "clf2 = GridSearchCV(GradientBoostingClassifier(), parameters, cv=5,  scoring='roc_auc',return_train_score=True,n_jobs=-1)\n",
    "clf2.fit(X_tr_tfidf_w2v,y_train)"
   ]
  },
  {
   "cell_type": "code",
   "execution_count": null,
   "metadata": {},
   "outputs": [],
   "source": [
    "result2 = pd.DataFrame(clf2.cv_results_)\n",
    "train_auc= clf2.cv_results_['mean_train_score']\n",
    "train_auc_std= clf2.cv_results_['std_train_score']\n",
    "cv_auc = clf2.cv_results_['mean_test_score']\n",
    "cv_auc_std= clf2.cv_results_['std_test_score']\n",
    "bestMaxDepth_2=clf2.best_params_['max_depth']\n",
    "bestestimator_2=clf2.best_params_['n_estimators']\n",
    "bestScore_2=clf2.best_score_\n"
   ]
  },
  {
   "cell_type": "code",
   "execution_count": null,
   "metadata": {},
   "outputs": [],
   "source": [
    "print(\"BEST MAX DEPTH: \",clf2.best_params_['max_depth'],\" BEST SCORE: \",clf2.best_score_,\"BEST ESTIMATOR: \",clf2.best_params_['n_estimators']) #clf.best_estimator_.alpha"
   ]
  },
  {
   "cell_type": "code",
   "execution_count": null,
   "metadata": {},
   "outputs": [],
   "source": [
    "import pandas as pd\n",
    "pvt = pd.pivot_table(result2,\n",
    "    values='mean_train_score', index='param_max_depth', columns='param_n_estimators') #https://stackoverflow.com/questions/48791709/how-to-plot-a-heat-map-on-pivot-table-after-grid-search\n",
    "plt.figure(figsize=(10,6))\n",
    "ax=sns.heatmap(pvt,annot=True,linewidths=.5)"
   ]
  },
  {
   "cell_type": "code",
   "execution_count": null,
   "metadata": {},
   "outputs": [],
   "source": [
    "import pandas as pd\n",
    "pvt = pd.pivot_table(result2,\n",
    "    values='mean_test_score', index='param_max_depth', columns='param_n_estimators') #https://stackoverflow.com/questions/48791709/how-to-plot-a-heat-map-on-pivot-table-after-grid-search\n",
    "plt.figure(figsize=(10,6))\n",
    "ax=sns.heatmap(pvt,annot=True,linewidths=.5)"
   ]
  },
  {
   "cell_type": "markdown",
   "metadata": {},
   "source": [
    "Roc Plot Of Train And Test Data"
   ]
  },
  {
   "cell_type": "code",
   "execution_count": null,
   "metadata": {},
   "outputs": [],
   "source": [
    "from sklearn.metrics import roc_auc_score,auc\n",
    "dt_tfidf_w2v_testModel = GradientBoostingClassifier(max_depth=bestMaxdepth_1,n_estimators=10)\n",
    "dt_tfidf_w2v_testModel.fit(X_tr_tfidf_w2v,y_train)\n",
    "\n",
    "y_train_pred = dt_tfidf_w2v_testModel.predict_proba(X_tr_tfidf_w2v)[:,1]\n",
    "y_test_pred = dt_tfidf_w2v_testModel.predict_proba(X_ts_tfidf_w2v)[:,1]\n",
    "\n",
    "predictions_train_set2 = dt_tfidf_w2v_testModel.predict(X_tr_tfidf_w2v)\n",
    "predictions_test_set2 = dt_tfidf_w2v_testModel.predict(X_ts_tfidf_w2v)\n",
    "\n",
    "train_fpr,train_tpr,train_thresholds = roc_curve(y_train,y_train_pred)\n",
    "test_fpr,test_tpr,test_thresholds = roc_curve(y_test,y_test_pred)\n",
    "\n",
    "train_auc = auc(train_fpr,train_tpr)\n",
    "test_auc = auc(test_fpr,test_tpr)\n",
    "\n",
    "plt.plot(train_fpr,train_tpr,label='train_auc_curve='+str(train_auc))\n",
    "plt.plot(test_fpr,test_tpr,label='test_auc_curve='+str(test_auc))\n",
    "plt.grid()\n",
    "plt.xlabel('Flase Positive Rate')\n",
    "plt.plot([0, 1], [0, 1])\n",
    "plt.ylabel('True Positive Rate')\n",
    "plt.legend()\n",
    "plt.title(\"FPR vs TPR\")\n",
    "plt.show()"
   ]
  },
  {
   "cell_type": "code",
   "execution_count": null,
   "metadata": {},
   "outputs": [],
   "source": [
    "def best_threshold(threshould,fpr,tpr):\n",
    "    t = threshould[np.argmax(tpr*(1-fpr))]\n",
    "     # (tpr*(1-fpr)) will be maximum if your fpr is very low and tpr is very high\n",
    "    print(\"the maximum value of tpr*(1-fpr)\", max(tpr*(1-fpr)), \"for threshold\", np.round(t,3))\n",
    "    return t\n",
    "def predict_with_best_t(proba,threshould):\n",
    "    predictions = []\n",
    "    for i in proba:\n",
    "        if i>=threshould:\n",
    "            predictions.append(1)\n",
    "        else:\n",
    "            predictions.append(0)\n",
    "    return predictions"
   ]
  },
  {
   "cell_type": "markdown",
   "metadata": {},
   "source": [
    "## Confusion Matrix of Train and Test datasets"
   ]
  },
  {
   "cell_type": "code",
   "execution_count": null,
   "metadata": {},
   "outputs": [],
   "source": [
    "print(\"=\"*100)\n",
    "from sklearn.metrics import confusion_matrix\n",
    "best_t = best_threshold(train_thresholds,train_fpr,train_tpr)\n",
    "print(\"Train_Set2_Confusion_matrix\")\n",
    "print(confusion_matrix(y_train,predict_with_best_t(y_train_pred,best_t)))\n",
    "print(\"=\"*100)\n",
    "print(\"Test_Set2_Confusion_matrix\")\n",
    "print(confusion_matrix(y_test,predict_with_best_t(y_test_pred,best_t)))"
   ]
  },
  {
   "cell_type": "code",
   "execution_count": null,
   "metadata": {},
   "outputs": [],
   "source": [
    "import seaborn as sns\n",
    "heatmap_train = sns.heatmap(confusion_matrix(y_train,predict_with_best_t(y_train_pred,best_t)),annot=True,fmt = 'd')\n",
    "plt.title(\"Train_set2_confusion_matrix\")\n",
    "plt.xlabel(\"Actual\")\n",
    "plt.ylabel(\"Predicted\")\n",
    "plt.show()\n",
    "print(\"=\"*100)\n",
    "heatmap_test = sns.heatmap(confusion_matrix(y_test,predict_with_best_t(y_test_pred,best_t)),annot=True,fmt='d')\n",
    "plt.title(\"Test_Set2_confusion_matrix\")\n",
    "plt.xlabel('Actual')\n",
    "plt.ylabel('Predicted')\n",
    "plt.show()"
   ]
  },
  {
   "cell_type": "code",
   "execution_count": null,
   "metadata": {},
   "outputs": [],
   "source": []
  },
  {
   "cell_type": "markdown",
   "metadata": {
    "colab_type": "text",
    "id": "YhFN-lDWsc4G"
   },
   "source": [
    "<h1>3. Summary</h1>\n",
    "\n",
    "<br> as mentioned in the step 4 of instructions"
   ]
  },
  {
   "cell_type": "code",
   "execution_count": null,
   "metadata": {},
   "outputs": [],
   "source": [
    "from prettytable import PrettyTable\n",
    "compare_model = PrettyTable(['Vectorizer','Model','Hyperparameter','AUC'])\n",
    "compare_model.add_row ([\"Tfidf\",\"GradientBoostingDecisionTree\",[bestMaxdepth_1,bestestimator_1],np.round(bestscore_1,4)])\n",
    "compare_model.add_row ([\"Tfidf_w2v\",\"GradientBoostingDecisiontree\",[bestMaxDepth_2,bestestimator_2],np.round(bestScore_2,4)])\n",
    "\n",
    "print(compare_model)"
   ]
  },
  {
   "cell_type": "code",
   "execution_count": null,
   "metadata": {},
   "outputs": [],
   "source": []
  },
  {
   "cell_type": "code",
   "execution_count": null,
   "metadata": {},
   "outputs": [],
   "source": []
  }
 ],
 "metadata": {
  "colab": {
   "collapsed_sections": [],
   "name": "11_Assignment_GBDT_Instructions.ipynb",
   "provenance": [],
   "version": "0.3.2"
  },
  "kernelspec": {
   "display_name": "Python 3",
   "language": "python",
   "name": "python3"
  },
  "language_info": {
   "codemirror_mode": {
    "name": "ipython",
    "version": 3
   },
   "file_extension": ".py",
   "mimetype": "text/x-python",
   "name": "python",
   "nbconvert_exporter": "python",
   "pygments_lexer": "ipython3",
   "version": "3.8.8"
  }
 },
 "nbformat": 4,
 "nbformat_minor": 4
}
